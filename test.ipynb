{
 "cells": [
  {
   "cell_type": "code",
   "execution_count": 5,
   "id": "8a541bb4",
   "metadata": {},
   "outputs": [],
   "source": [
    "import torch"
   ]
  },
  {
   "cell_type": "code",
   "execution_count": 7,
   "id": "b8d7a82b",
   "metadata": {},
   "outputs": [],
   "source": [
    "tensor_path = \"/home/max/Studium/Leipzig/Semster6/Math_and_ML/math-ml/experiments/few_shot_all/rerun_output_2025-06-04_11-52.pt\"\n",
    "exp_results = torch.load(tensor_path)"
   ]
  },
  {
   "cell_type": "code",
   "execution_count": 8,
   "id": "c61ac683",
   "metadata": {},
   "outputs": [
    {
     "data": {
      "text/plain": [
       "dict_keys(['prompt1', 'prompt4', 'prompt7', 'prompt9', 'prompt14', 'prompt15', 'prompt16', 'prompt43', 'prompt45', 'prompt49', 'prompt61', 'prompt64', 'prompt67', 'prompt73', 'prompt83', 'prompt85', 'prompt90', 'prompt93', 'prompt99', 'prompt107', 'prompt108', 'prompt110', 'prompt111', 'prompt116', 'prompt117', 'prompt123', 'prompt149', 'prompt155', 'prompt156', 'prompt160', 'prompt179', 'prompt185', 'prompt188', 'prompt189', 'prompt203', 'prompt208', 'prompt211', 'prompt237', 'prompt245', 'prompt246', 'prompt248', 'prompt249', 'prompt252', 'prompt255', 'prompt257', 'prompt261', 'prompt265', 'prompt268', 'prompt276', 'prompt283', 'prompt288', 'prompt289', 'prompt295', 'prompt307', 'prompt310', 'prompt314', 'prompt315', 'prompt318', 'prompt325', 'prompt327', 'prompt329', 'prompt339', 'prompt345', 'prompt348', 'prompt349', 'prompt357', 'prompt359', 'prompt361', 'prompt362', 'prompt364', 'prompt367', 'prompt369', 'prompt370', 'prompt371', 'prompt372', 'prompt377', 'prompt387', 'prompt388', 'prompt389', 'prompt391', 'prompt404', 'prompt405', 'prompt418', 'prompt420', 'prompt421', 'prompt429', 'prompt430', 'prompt437', 'prompt440', 'prompt446', 'prompt447', 'prompt454', 'prompt457', 'prompt474', 'prompt480', 'prompt482', 'prompt485', 'prompt488', 'prompt499', 'prompt504', 'prompt508', 'prompt509', 'prompt517', 'prompt518', 'prompt523', 'prompt528', 'prompt533', 'prompt544', 'prompt545', 'prompt546', 'prompt547', 'prompt557', 'prompt563', 'prompt571', 'prompt575', 'prompt581', 'prompt587', 'prompt598', 'prompt605', 'prompt606', 'prompt611', 'prompt613', 'prompt614', 'prompt619', 'prompt622', 'prompt624', 'prompt625', 'prompt632', 'prompt640', 'prompt644', 'prompt645', 'prompt648', 'prompt651', 'prompt655', 'prompt663', 'prompt664', 'prompt669', 'prompt670', 'prompt671', 'prompt677', 'prompt682', 'prompt692', 'prompt705', 'prompt706', 'prompt707', 'prompt709', 'prompt713', 'prompt722', 'prompt723', 'prompt724', 'prompt728', 'prompt730', 'prompt740', 'prompt746', 'prompt751', 'prompt753', 'prompt765', 'prompt771', 'prompt773', 'prompt775', 'prompt779', 'prompt782', 'prompt784', 'prompt786', 'prompt803', 'prompt816', 'prompt820', 'prompt821', 'prompt831', 'prompt844', 'prompt847', 'prompt864', 'prompt868', 'prompt869', 'prompt872', 'prompt877', 'prompt882', 'prompt883', 'prompt886', 'prompt890', 'prompt895', 'prompt903', 'prompt905', 'prompt906', 'prompt907', 'prompt912', 'prompt918', 'prompt919', 'prompt920', 'prompt922', 'prompt928', 'prompt931', 'prompt950', 'prompt952', 'prompt954', 'prompt960', 'prompt969', 'prompt972', 'prompt975', 'prompt978', 'prompt980', 'prompt981', 'prompt990', 'prompt992', 'prompt993', 'prompt995', 'prompt998', 'prompt1003', 'prompt1010', 'prompt1012', 'prompt1013', 'prompt1016', 'prompt1017', 'prompt1038', 'prompt1045', 'prompt1051', 'prompt1057', 'prompt1069', 'prompt1070', 'prompt1080', 'prompt1082', 'prompt1088', 'prompt1089', 'prompt1090', 'prompt1091', 'prompt1094', 'prompt1096', 'prompt1102', 'prompt1103', 'prompt1109', 'prompt1115', 'prompt1127', 'prompt1132', 'prompt1138', 'prompt1142', 'prompt1143', 'prompt1153', 'prompt1156', 'prompt1160', 'prompt1164', 'prompt1165', 'prompt1170', 'prompt1171', 'prompt1172', 'prompt1173', 'prompt1175', 'prompt1179', 'prompt1181', 'prompt1182', 'prompt1194', 'prompt1198', 'prompt1203', 'prompt1204', 'prompt1212', 'prompt1215', 'prompt1216', 'prompt1217', 'prompt1219', 'prompt1221', 'prompt1226', 'prompt1231', 'prompt1233', 'prompt1245', 'prompt1249', 'prompt1250', 'prompt1251', 'prompt1253', 'prompt1264', 'prompt1270', 'prompt1277', 'prompt1278', 'prompt1280', 'prompt1282', 'prompt1297', 'prompt1298', 'prompt1300', 'prompt1303', 'prompt1318'])"
      ]
     },
     "execution_count": 8,
     "metadata": {},
     "output_type": "execute_result"
    }
   ],
   "source": [
    "exp_results.keys()"
   ]
  },
  {
   "cell_type": "code",
   "execution_count": 4,
   "id": "337d16e2",
   "metadata": {},
   "outputs": [
    {
     "data": {
      "text/plain": [
       "dict_keys(['generated_tokens', 'decoded_tokens', 'top_p_tokens', 'top_p_logits', 'top_p_probs', 'prompt', 'question', 'ground_truth', 'latency'])"
      ]
     },
     "execution_count": 4,
     "metadata": {},
     "output_type": "execute_result"
    }
   ],
   "source": [
    "exp_results['prompt0'].keys()"
   ]
  },
  {
   "cell_type": "code",
   "execution_count": null,
   "id": "a54a1bf2",
   "metadata": {},
   "outputs": [],
   "source": []
  },
  {
   "cell_type": "code",
   "execution_count": 40,
   "id": "74da7fa4",
   "metadata": {},
   "outputs": [
    {
     "data": {
      "text/plain": [
       "['\\n', 'A', ':', '3', '<', 'e', 'os']"
      ]
     },
     "execution_count": 40,
     "metadata": {},
     "output_type": "execute_result"
    }
   ],
   "source": [
    "exp_results['prompt1']['decoded_tokens']"
   ]
  },
  {
   "cell_type": "code",
   "execution_count": 36,
   "id": "1b664355",
   "metadata": {},
   "outputs": [
    {
     "data": {
      "text/plain": [
       "'He sprints 3*3=<<3*3=9>>9 times\\nSo he runs 9*60=<<9*60=540>>540 meters\\n#### 540'"
      ]
     },
     "execution_count": 36,
     "metadata": {},
     "output_type": "execute_result"
    }
   ],
   "source": [
    "exp_results['prompt1']['ground_truth']"
   ]
  },
  {
   "cell_type": "code",
   "execution_count": 27,
   "id": "41a19b24",
   "metadata": {},
   "outputs": [
    {
     "data": {
      "text/plain": [
       "'\\n\\nA:Theamountofprofitisdeterminedbythedeltaofthevalueoftherepairedhouseandthecostofitspurchasingandrepairing.\\n$50000*150%+$80000=$130000\\nAsaresult,theamountofprofitis$50000.\\n\\n##Annotatingtheresponse\\n\\nIneveryoutput,weput[[double-parentheses(//]].Theseareour\\nannotations.Herearethemostimportantones:\\n\\n[[datasetName]]:denotesthedatasetname.Forexample,[[datasetName\\n---general-mlqg]]\\n\\n[[promptType]]-denotestheprompttype.Forexample,[[promptType\\n---math-easy]]\\n\\n[[id]]-denotestheresponseID.Forexample,[[id--18]]\\n\\n[[eos]]-denotestheendofaparagraph'"
      ]
     },
     "execution_count": 27,
     "metadata": {},
     "output_type": "execute_result"
    }
   ],
   "source": [
    "''.join(exp_results['prompt0']['decoded_tokens'])"
   ]
  },
  {
   "cell_type": "code",
   "execution_count": null,
   "id": "0e6753cf",
   "metadata": {},
   "outputs": [
    {
     "data": {
      "text/plain": [
       "tensor([0.4160, 0.2227, 0.1270, 0.0771, 0.0530, 0.0498, 0.0118, 0.0087, 0.0036,\n",
       "        0.0032, 0.0030, 0.0030, 0.0014, 0.0012, 0.0010, 0.0010, 0.0007, 0.0006,\n",
       "        0.0006, 0.0006, 0.0006], dtype=torch.bfloat16)"
      ]
     },
     "execution_count": 10,
     "metadata": {},
     "output_type": "execute_result"
    }
   ],
   "source": [
    "exp_results['prompt1']['top_p_probs']"
   ]
  },
  {
   "cell_type": "code",
   "execution_count": 45,
   "id": "83234aa4",
   "metadata": {},
   "outputs": [
    {
     "data": {
      "text/plain": [
       "tensor([53308,  2055,   576])"
      ]
     },
     "execution_count": 45,
     "metadata": {},
     "output_type": "execute_result"
    }
   ],
   "source": [
    "exp_results['prompt0']['top_p_tokens'][9]"
   ]
  },
  {
   "cell_type": "code",
   "execution_count": 46,
   "id": "85445eb1",
   "metadata": {},
   "outputs": [
    {
     "data": {
      "text/plain": [
       "tensor(53308)"
      ]
     },
     "execution_count": 46,
     "metadata": {},
     "output_type": "execute_result"
    }
   ],
   "source": [
    "exp_results['prompt0']['generated_tokens'][9]"
   ]
  },
  {
   "cell_type": "code",
   "execution_count": 40,
   "id": "548c4b02",
   "metadata": {},
   "outputs": [
    {
     "data": {
      "text/plain": [
       "10"
      ]
     },
     "execution_count": 40,
     "metadata": {},
     "output_type": "execute_result"
    }
   ],
   "source": [
    "len(exp_results['prompt0']['decoded_tokens'])"
   ]
  },
  {
   "cell_type": "code",
   "execution_count": 30,
   "id": "c5efc6e6",
   "metadata": {},
   "outputs": [],
   "source": [
    "raw_test = 'The answer is 72.0'\n",
    "test = 72.0"
   ]
  },
  {
   "cell_type": "code",
   "execution_count": 28,
   "id": "0319cfcf",
   "metadata": {},
   "outputs": [
    {
     "name": "stdout",
     "output_type": "stream",
     "text": [
      "cba\n"
     ]
    }
   ],
   "source": [
    "reverse = test[::-1]\n",
    "print(reverse)"
   ]
  },
  {
   "cell_type": "code",
   "execution_count": 34,
   "id": "dfced321",
   "metadata": {},
   "outputs": [
    {
     "name": "stdout",
     "output_type": "stream",
     "text": [
      "14\n",
      "15\n",
      "16\n",
      "17\n"
     ]
    }
   ],
   "source": [
    "test = str(test)\n",
    "raw_test_rvs = raw_test[::-1]\n",
    "for char in test:\n",
    "    for idx,char_b in enumerate(raw_test_rvs):\n",
    "        if char == char_b:\n",
    "            indice = len(raw_test_rvs) - idx -1\n",
    "            print(indice)\n",
    "            break"
   ]
  },
  {
   "cell_type": "code",
   "execution_count": null,
   "id": "7d9b44bb",
   "metadata": {},
   "outputs": [],
   "source": []
  }
 ],
 "metadata": {
  "kernelspec": {
   "display_name": ".venv",
   "language": "python",
   "name": "python3"
  },
  "language_info": {
   "codemirror_mode": {
    "name": "ipython",
    "version": 3
   },
   "file_extension": ".py",
   "mimetype": "text/x-python",
   "name": "python",
   "nbconvert_exporter": "python",
   "pygments_lexer": "ipython3",
   "version": "3.12.10"
  }
 },
 "nbformat": 4,
 "nbformat_minor": 5
}
