{
 "cells": [
  {
   "cell_type": "code",
   "execution_count": 1,
   "id": "21001033",
   "metadata": {},
   "outputs": [],
   "source": [
    "import numpy as np\n",
    "from transformers import AutoTokenizer, AutoModelForCausalLM\n",
    "from datasets import load_dataset\n",
    "import torch\n",
    "import torch.nn.functional as F\n",
    "from dotenv import load_dotenv\n",
    "import os"
   ]
  },
  {
   "cell_type": "code",
   "execution_count": 2,
   "id": "bc4c71af",
   "metadata": {},
   "outputs": [
    {
     "name": "stdout",
     "output_type": "stream",
     "text": [
      "logged in as M00nl8tshad0w\n"
     ]
    }
   ],
   "source": [
    "from huggingface_hub import HfFolder, whoami\n",
    "load_dotenv()\n",
    "hf_token = os.getenv('HF_TOKEN')\n",
    "HfFolder.save_token(hf_token)\n",
    "user = whoami()\n",
    "print(f\"logged in as {user[\"name\"]}\")"
   ]
  },
  {
   "cell_type": "code",
   "execution_count": 3,
   "id": "060cca89",
   "metadata": {},
   "outputs": [],
   "source": [
    "def load_model(model_name, local_dir=\"./models/llama3_70b\"):\n",
    "    if os.path.exists(local_dir):\n",
    "        print(f\"Loading model from local directory: {local_dir}\")\n",
    "        tokenizer = AutoTokenizer.from_pretrained(local_dir)\n",
    "        model = AutoModelForCausalLM.from_pretrained(local_dir, device_map=\"auto\", torch_dtype=\"auto\")\n",
    "    else:\n",
    "        print(f\"Local directory not found. Downloading model '{model_name}' from Hugging Face Hub...\")\n",
    "        tokenizer = AutoTokenizer.from_pretrained(model_name)\n",
    "        model = AutoModelForCausalLM.from_pretrained(model_name, device_map=\"auto\", torch_dtype=\"auto\")\n",
    "\n",
    "        os.makedirs(local_dir, exist_ok=True)\n",
    "        tokenizer.save_pretrained(local_dir)\n",
    "        model.save_pretrained(local_dir)\n",
    "        print(f\"Model downloaded and saved locally to: {local_dir}\")\n",
    "\n",
    "    return tokenizer, model"
   ]
  },
  {
   "cell_type": "code",
   "execution_count": 4,
   "id": "9d461f98",
   "metadata": {},
   "outputs": [
    {
     "name": "stdout",
     "output_type": "stream",
     "text": [
      "Loading model from local directory: /home/max/Studium/Leipzig/Semster6/Math_and_ML/hf_models/llama3_70b/\n"
     ]
    },
    {
     "data": {
      "application/vnd.jupyter.widget-view+json": {
       "model_id": "05618ffbf6f74991a61c57bc7350a8d9",
       "version_major": 2,
       "version_minor": 0
      },
      "text/plain": [
       "Loading checkpoint shards:   0%|          | 0/30 [00:00<?, ?it/s]"
      ]
     },
     "metadata": {},
     "output_type": "display_data"
    },
    {
     "name": "stderr",
     "output_type": "stream",
     "text": [
      "Some parameters are on the meta device because they were offloaded to the disk and cpu.\n"
     ]
    }
   ],
   "source": [
    "tokenizer, model = load_model(model_name=\"meta-llama/Llama-3.3-70B-Instruct\",\n",
    "                              local_dir=\"/home/max/Studium/Leipzig/Semster6/Math_and_ML/hf_models/llama3_70b/\")"
   ]
  },
  {
   "cell_type": "code",
   "execution_count": 5,
   "id": "a0fe74a6",
   "metadata": {},
   "outputs": [],
   "source": [
    "def load_hf_dataset(dataset_name, subset=\"default\", local_dir=\"~/hf_datasets/OpenR1_Math_220k/\"):\n",
    "    local_dir = os.path.expanduser(local_dir)\n",
    "    os.makedirs(local_dir, exist_ok=True)\n",
    "    return load_dataset(dataset_name, subset, cache_dir=local_dir)"
   ]
  },
  {
   "cell_type": "code",
   "execution_count": 6,
   "id": "7ee4460d",
   "metadata": {},
   "outputs": [
    {
     "data": {
      "application/vnd.jupyter.widget-view+json": {
       "model_id": "7ee369d7765a40cc9598b913132f8504",
       "version_major": 2,
       "version_minor": 0
      },
      "text/plain": [
       "Resolving data files:   0%|          | 0/20 [00:00<?, ?it/s]"
      ]
     },
     "metadata": {},
     "output_type": "display_data"
    }
   ],
   "source": [
    "math_dataset = load_hf_dataset(dataset_name=\"open-r1/OpenR1-Math-220k\",\n",
    "                               local_dir=\"/home/max/Studium/Leipzig/Semster6/Math_and_ML/hf_datasets/open-r1/OpenR1-Math-220k\")"
   ]
  },
  {
   "cell_type": "code",
   "execution_count": 9,
   "id": "af08865b",
   "metadata": {},
   "outputs": [
    {
     "name": "stdout",
     "output_type": "stream",
     "text": [
      "## Task B-1.3.\n",
      "\n",
      "A ship traveling along a river has covered $24 \\mathrm{~km}$ upstream and $28 \\mathrm{~km}$ downstream. For this journey, it took half an hour less than for traveling $30 \\mathrm{~km}$ upstream and $21 \\mathrm{~km}$ downstream, or half an hour more than for traveling $15 \\mathrm{~km}$ upstream and $42 \\mathrm{~km}$ downstream, assuming that both the ship and the river move uniformly.\n",
      "\n",
      "Determine the speed of the ship in still water and the speed of the river.\n"
     ]
    }
   ],
   "source": [
    "question = math_dataset[\"train\"][\"problem\"][0]\n",
    "print(question)\n",
    "inputs = tokenizer(question, return_tensors=\"pt\")\n",
    "inputs = {k: v.to(model.device) for k, v in inputs.items()}\n",
    "with torch.no_grad():\n",
    "    outputs = model(**inputs)"
   ]
  },
  {
   "cell_type": "code",
   "execution_count": 11,
   "id": "0f50beee",
   "metadata": {},
   "outputs": [
    {
     "name": "stdout",
     "output_type": "stream",
     "text": [
      "Logits shape: torch.Size([1, 126, 128256])\n"
     ]
    }
   ],
   "source": [
    "logits = outputs.logits\n",
    "print(\"Logits shape:\", logits.shape)"
   ]
  },
  {
   "cell_type": "code",
   "execution_count": 14,
   "id": "f1f47b70",
   "metadata": {},
   "outputs": [
    {
     "name": "stdout",
     "output_type": "stream",
     "text": [
      "Predicted next token:  Let\n"
     ]
    }
   ],
   "source": [
    "probs = torch.nn.functional.softmax(logits, dim=-1)\n",
    "predicted_token_id = torch.argmax(logits[:, -1, :], dim=-1)\n",
    "predicted_token = tokenizer.decode(predicted_token_id)\n",
    "print(\"Predicted next token:\", predicted_token)"
   ]
  },
  {
   "cell_type": "code",
   "execution_count": 19,
   "id": "ddc3ba00",
   "metadata": {},
   "outputs": [
    {
     "name": "stderr",
     "output_type": "stream",
     "text": [
      "<>:19: SyntaxWarning: invalid escape sequence '\\m'\n",
      "<>:19: SyntaxWarning: invalid escape sequence '\\m'\n",
      "/tmp/ipykernel_242/1816185161.py:19: SyntaxWarning: invalid escape sequence '\\m'\n",
      "  A ship traveling along a river has covered $24 \\mathrm{~km}$ upstream and $28 \\mathrm{~km}$ downstream. For this journey, it took half an hour less than for traveling $30 \\mathrm{~km}$ upstream and $21 \\mathrm{~km}$ downstream, or half an hour more than for traveling $15 \\mathrm{~km}$ upstream and $42 \\mathrm{~km}$ downstream, assuming that both the ship and the river move uniformly.\n"
     ]
    },
    {
     "name": "stdout",
     "output_type": "stream",
     "text": [
      "Loading model from local directory: /home/max/Studium/Leipzig/Semster6/Math_and_ML/hf_models/llama3_70b/\n"
     ]
    },
    {
     "name": "stderr",
     "output_type": "stream",
     "text": [
      "/home/max/Studium/Leipzig/Semster6/Math_and_ML/math-ml/.venv/lib/python3.12/site-packages/accelerate/utils/modeling.py:1569: UserWarning: Current model requires 128 bytes of buffer for offloaded layers, which seems does not fit any GPU's remaining memory. If you are experiencing a OOM later, please consider using offload_buffers=True.\n",
      "  warnings.warn(\n"
     ]
    },
    {
     "data": {
      "application/vnd.jupyter.widget-view+json": {
       "model_id": "a76cfa99b7b149278b3b22bf43f86ab8",
       "version_major": 2,
       "version_minor": 0
      },
      "text/plain": [
       "Loading checkpoint shards:   0%|          | 0/30 [00:00<?, ?it/s]"
      ]
     },
     "metadata": {},
     "output_type": "display_data"
    },
    {
     "name": "stderr",
     "output_type": "stream",
     "text": [
      "Some parameters are on the meta device because they were offloaded to the disk and cpu.\n"
     ]
    },
    {
     "data": {
      "application/vnd.jupyter.widget-view+json": {
       "model_id": "355d897d491e4214a999e1d5b3fb6fa7",
       "version_major": 2,
       "version_minor": 0
      },
      "text/plain": [
       "Resolving data files:   0%|          | 0/20 [00:00<?, ?it/s]"
      ]
     },
     "metadata": {},
     "output_type": "display_data"
    },
    {
     "name": "stdout",
     "output_type": "stream",
     "text": [
      "Forward Pass\n",
      "Plain logits shape: torch.Size([1, 126, 128256])\n",
      "CoT logits shape: torch.Size([1, 133, 128256])\n"
     ]
    }
   ],
   "source": [
    "import torch\n",
    "import torch.nn.functional as F\n",
    "from transformers import AutoTokenizer, AutoModelForCausalLM\n",
    "\n",
    "# Step 0: Load model + dataset\n",
    "tokenizer, model = load_model(\n",
    "    model_name=\"meta-llama/Llama-3.3-70B-Instruct\",\n",
    "    local_dir=\"/home/max/Studium/Leipzig/Semster6/Math_and_ML/hf_models/llama3_70b/\"\n",
    ")\n",
    "math_dataset = load_hf_dataset(\n",
    "    dataset_name=\"open-r1/OpenR1-Math-220k\",\n",
    "    local_dir=\"/home/max/Studium/Leipzig/Semster6/Math_and_ML/hf_datasets/open-r1/OpenR1-Math-220k\"\n",
    ")\n",
    "\n",
    "# Step 1: Select YOUR specific question\n",
    "question = \"\"\"\n",
    "## Task B-1.3.\n",
    "\n",
    "A ship traveling along a river has covered $24 \\mathrm{~km}$ upstream and $28 \\mathrm{~km}$ downstream. For this journey, it took half an hour less than for traveling $30 \\mathrm{~km}$ upstream and $21 \\mathrm{~km}$ downstream, or half an hour more than for traveling $15 \\mathrm{~km}$ upstream and $42 \\mathrm{~km}$ downstream, assuming that both the ship and the river move uniformly.\n",
    "\n",
    "Determine the speed of the ship in still water and the speed of the river.\n",
    "\"\"\"\n",
    "\n",
    "# Step 2: Prepare the plain prompt (no CoT)\n",
    "plain_prompt = question.strip()\n",
    "\n",
    "# Step 3: Prepare the CoT prompt\n",
    "cot_prompt = f\"{question.strip()}\\nLet's think step-by-step.\"\n",
    "\n",
    "# Step 4: Encode\n",
    "inputs_plain = tokenizer(plain_prompt, return_tensors=\"pt\")\n",
    "inputs_plain = {k: v.to(model.device) for k, v in inputs_plain.items()}\n",
    "\n",
    "inputs_cot = tokenizer(cot_prompt, return_tensors=\"pt\")\n",
    "inputs_cot = {k: v.to(model.device) for k, v in inputs_cot.items()}\n",
    "\n",
    "print(\"Forward Pass\")\n",
    "# Step 5: Forward pass\n",
    "with torch.no_grad():\n",
    "    outputs_plain = model(**inputs_plain)\n",
    "    outputs_cot = model(**inputs_cot)\n",
    "\n",
    "logits_plain = outputs_plain.logits\n",
    "logits_cot = outputs_cot.logits\n",
    "\n",
    "print(\"Plain logits shape:\", logits_plain.shape)\n",
    "print(\"CoT logits shape:\", logits_cot.shape)"
   ]
  },
  {
   "cell_type": "code",
   "execution_count": 20,
   "id": "c09fde6c",
   "metadata": {},
   "outputs": [
    {
     "name": "stdout",
     "output_type": "stream",
     "text": [
      "Compute Entropy\n",
      "Convert to Float32\n",
      "Plain Entropy shape: torch.Size([1, 126])\n",
      "CoT Entropy shape: torch.Size([1, 133])\n"
     ]
    }
   ],
   "source": [
    "# Step 6: Compute entropy for each token\n",
    "print(\"Compute Entropy\")\n",
    "def compute_entropy(logits):\n",
    "    probs = F.softmax(logits, dim=-1)  # (batch_size, seq_len, vocab_size)\n",
    "    log_probs = F.log_softmax(logits, dim=-1)\n",
    "    entropy = -(probs * log_probs).sum(dim=-1)  # (batch_size, seq_len)\n",
    "    return entropy\n",
    "\n",
    "print(\"Convert to Float32\")\n",
    "entropy_plain = compute_entropy(logits_plain)\n",
    "entropy_cot = compute_entropy(logits_cot)\n",
    "entropy_plain =  entropy_plain.type(torch.float32)\n",
    "entropy_cot =  entropy_cot.type(torch.float32)\n",
    "\n",
    "print(\"Plain Entropy shape:\", entropy_plain.shape)\n",
    "print(\"CoT Entropy shape:\", entropy_cot.shape)"
   ]
  },
  {
   "cell_type": "code",
   "execution_count": 27,
   "id": "054db4fe",
   "metadata": {},
   "outputs": [
    {
     "name": "stdout",
     "output_type": "stream",
     "text": [
      "(126,)\n",
      "(133,)\n"
     ]
    },
    {
     "data": {
      "image/png": "[encoded data removed]",
      "text/plain": [
       "<Figure size 640x480 with 1 Axes>"
      ]
     },
     "metadata": {},
     "output_type": "display_data"
    }
   ],
   "source": [
    "# Step 7: Optionally visualize or print a few values\n",
    "import matplotlib.pyplot as plt\n",
    "# Convert from bfloat16 to float32\n",
    "entropy_plain_np = entropy_plain[0].cpu().numpy().astype(np.float32)\n",
    "entropy_cot_np   = entropy_cot[0].cpu().numpy().astype(np.float32)\n",
    "print(entropy_plain_np.shape)\n",
    "print(entropy_cot_np.shape)\n",
    "\n",
    "plt.plot(entropy_plain_np, label=\"Plain Prompt Entropy\")\n",
    "plt.plot(entropy_cot_np, label=\"CoT Prompt Entropy\")\n",
    "plt.xlabel(\"Token Position\")\n",
    "plt.ylabel(\"Entropy (nats)\")\n",
    "plt.legend()\n",
    "plt.title(\"Entropy comparison: Plain vs CoT Prompting\")\n",
    "plt.show()"
   ]
  },
  {
   "cell_type": "markdown",
   "id": "51957892",
   "metadata": {},
   "source": [
    "https://huggingface.co/docs/transformers/v4.51.3/en/main_classes/text_generation#transformers.GenerationMixin.generate"
   ]
  },
  {
   "cell_type": "code",
   "execution_count": null,
   "id": "851e7e94",
   "metadata": {},
   "outputs": [],
   "source": []
  }
 ],
 "metadata": {
  "kernelspec": {
   "display_name": ".venv",
   "language": "python",
   "name": "python3"
  },
  "language_info": {
   "codemirror_mode": {
    "name": "ipython",
    "version": 3
   },
   "file_extension": ".py",
   "mimetype": "text/x-python",
   "name": "python",
   "nbconvert_exporter": "python",
   "pygments_lexer": "ipython3",
   "version": "3.12.10"
  }
 },
 "nbformat": 4,
 "nbformat_minor": 5
}
