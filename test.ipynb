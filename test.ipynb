{
 "cells": [
  {
   "cell_type": "code",
   "execution_count": 11,
   "id": "8a541bb4",
   "metadata": {},
   "outputs": [],
   "source": [
    "import torch"
   ]
  },
  {
   "cell_type": "code",
   "execution_count": 33,
   "id": "b8d7a82b",
   "metadata": {},
   "outputs": [],
   "source": [
    "tensor_path = \"/home/max/Studium/Leipzig/Semster6/Math_and_ML/math-ml/experiments/test_qwen_baseline/output_2025-06-24_16-22.pt\"\n",
    "\n",
    "exp_results = torch.load(tensor_path)"
   ]
  },
  {
   "cell_type": "code",
   "execution_count": 34,
   "id": "c61ac683",
   "metadata": {},
   "outputs": [
    {
     "data": {
      "text/plain": [
       "dict_keys(['prompt0', 'prompt1', 'prompt2'])"
      ]
     },
     "execution_count": 34,
     "metadata": {},
     "output_type": "execute_result"
    }
   ],
   "source": [
    "exp_results.keys()"
   ]
  },
  {
   "cell_type": "code",
   "execution_count": 35,
   "id": "337d16e2",
   "metadata": {},
   "outputs": [
    {
     "data": {
      "text/plain": [
       "dict_keys(['generated_tokens', 'decoded_tokens', 'top_p_tokens', 'top_p_logits', 'top_p_probs', 'prompt', 'question', 'ground_truth', 'latency'])"
      ]
     },
     "execution_count": 35,
     "metadata": {},
     "output_type": "execute_result"
    }
   ],
   "source": [
    "exp_results['prompt0'].keys()"
   ]
  },
  {
   "cell_type": "code",
   "execution_count": 42,
   "id": "74da7fa4",
   "metadata": {},
   "outputs": [
    {
     "name": "stdout",
     "output_type": "stream",
     "text": [
      "Answer:  \n",
      " A : 3  < eos\n",
      "\n",
      "It takes 2/2=<<2/2=1>>1 bolt of white fiber\n",
      "So the total amount of fabric is 2+1=<<2+1=3>>3 bolts of fabric\n",
      "#### 3\n"
     ]
    }
   ],
   "source": [
    "prompt = 'prompt1'\n",
    "print(f\"Answer: {' '.join(exp_results[prompt]['decoded_tokens'])}\")\n",
    "print()\n",
    "print(exp_results[prompt]['ground_truth'])"
   ]
  },
  {
   "cell_type": "code",
   "execution_count": null,
   "id": "0e6753cf",
   "metadata": {},
   "outputs": [
    {
     "data": {
      "text/plain": [
       "tensor([0.4160, 0.2227, 0.1270, 0.0771, 0.0530, 0.0498, 0.0118, 0.0087, 0.0036,\n",
       "        0.0032, 0.0030, 0.0030, 0.0014, 0.0012, 0.0010, 0.0010, 0.0007, 0.0006,\n",
       "        0.0006, 0.0006, 0.0006], dtype=torch.bfloat16)"
      ]
     },
     "execution_count": 10,
     "metadata": {},
     "output_type": "execute_result"
    }
   ],
   "source": [
    "exp_results['prompt1']['top_p_probs']"
   ]
  },
  {
   "cell_type": "code",
   "execution_count": 45,
   "id": "83234aa4",
   "metadata": {},
   "outputs": [
    {
     "data": {
      "text/plain": [
       "tensor([53308,  2055,   576])"
      ]
     },
     "execution_count": 45,
     "metadata": {},
     "output_type": "execute_result"
    }
   ],
   "source": [
    "exp_results['prompt0']['top_p_tokens'][9]"
   ]
  },
  {
   "cell_type": "code",
   "execution_count": 46,
   "id": "85445eb1",
   "metadata": {},
   "outputs": [
    {
     "data": {
      "text/plain": [
       "tensor(53308)"
      ]
     },
     "execution_count": 46,
     "metadata": {},
     "output_type": "execute_result"
    }
   ],
   "source": [
    "exp_results['prompt0']['generated_tokens'][9]"
   ]
  },
  {
   "cell_type": "code",
   "execution_count": 40,
   "id": "548c4b02",
   "metadata": {},
   "outputs": [
    {
     "data": {
      "text/plain": [
       "10"
      ]
     },
     "execution_count": 40,
     "metadata": {},
     "output_type": "execute_result"
    }
   ],
   "source": [
    "len(exp_results['prompt0']['decoded_tokens'])"
   ]
  },
  {
   "cell_type": "code",
   "execution_count": 30,
   "id": "c5efc6e6",
   "metadata": {},
   "outputs": [],
   "source": [
    "raw_test = 'The answer is 72.0'\n",
    "test = 72.0"
   ]
  },
  {
   "cell_type": "code",
   "execution_count": 28,
   "id": "0319cfcf",
   "metadata": {},
   "outputs": [
    {
     "name": "stdout",
     "output_type": "stream",
     "text": [
      "cba\n"
     ]
    }
   ],
   "source": [
    "reverse = test[::-1]\n",
    "print(reverse)"
   ]
  },
  {
   "cell_type": "code",
   "execution_count": 34,
   "id": "dfced321",
   "metadata": {},
   "outputs": [
    {
     "name": "stdout",
     "output_type": "stream",
     "text": [
      "14\n",
      "15\n",
      "16\n",
      "17\n"
     ]
    }
   ],
   "source": [
    "test = str(test)\n",
    "raw_test_rvs = raw_test[::-1]\n",
    "for char in test:\n",
    "    for idx,char_b in enumerate(raw_test_rvs):\n",
    "        if char == char_b:\n",
    "            indice = len(raw_test_rvs) - idx -1\n",
    "            print(indice)\n",
    "            break"
   ]
  },
  {
   "cell_type": "code",
   "execution_count": null,
   "id": "7d9b44bb",
   "metadata": {},
   "outputs": [],
   "source": []
  }
 ],
 "metadata": {
  "kernelspec": {
   "display_name": ".venv",
   "language": "python",
   "name": "python3"
  },
  "language_info": {
   "codemirror_mode": {
    "name": "ipython",
    "version": 3
   },
   "file_extension": ".py",
   "mimetype": "text/x-python",
   "name": "python",
   "nbconvert_exporter": "python",
   "pygments_lexer": "ipython3",
   "version": "3.12.10"
  }
 },
 "nbformat": 4,
 "nbformat_minor": 5
}
