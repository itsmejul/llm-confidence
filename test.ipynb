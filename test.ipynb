{
 "cells": [
  {
   "cell_type": "code",
   "execution_count": 1,
   "id": "8a541bb4",
   "metadata": {},
   "outputs": [],
   "source": [
    "import torch"
   ]
  },
  {
   "cell_type": "code",
   "execution_count": 2,
   "id": "b8d7a82b",
   "metadata": {},
   "outputs": [],
   "source": [
    "tensor_path = \"/home/max/Studium/Leipzig/Semster6/Math_and_ML/math-ml/experiments/all_cod_48/output_2025-06-06_20-48.pt\"\n",
    "exp_results = torch.load(tensor_path)"
   ]
  },
  {
   "cell_type": "code",
   "execution_count": 3,
   "id": "c61ac683",
   "metadata": {},
   "outputs": [
    {
     "data": {
      "text/plain": [
       "dict_keys(['prompt0', 'prompt1', 'prompt2', 'prompt3', 'prompt4', 'prompt5', 'prompt6', 'prompt7', 'prompt8', 'prompt9', 'prompt10', 'prompt11', 'prompt12', 'prompt13', 'prompt14', 'prompt15', 'prompt16', 'prompt17', 'prompt18', 'prompt19', 'prompt20', 'prompt21', 'prompt22', 'prompt23', 'prompt24', 'prompt25', 'prompt26', 'prompt27', 'prompt28', 'prompt29', 'prompt30', 'prompt31', 'prompt32', 'prompt33', 'prompt34', 'prompt35', 'prompt36', 'prompt37', 'prompt38', 'prompt39', 'prompt40', 'prompt41', 'prompt42', 'prompt43', 'prompt44', 'prompt45', 'prompt46', 'prompt47', 'prompt48', 'prompt49', 'prompt50', 'prompt51', 'prompt52', 'prompt53', 'prompt54', 'prompt55', 'prompt56', 'prompt57', 'prompt58', 'prompt59', 'prompt60', 'prompt61', 'prompt62', 'prompt63', 'prompt64', 'prompt65', 'prompt66', 'prompt67', 'prompt68', 'prompt69', 'prompt70', 'prompt71', 'prompt72', 'prompt73', 'prompt74', 'prompt75', 'prompt76', 'prompt77', 'prompt78', 'prompt79', 'prompt80', 'prompt81', 'prompt82', 'prompt83', 'prompt84', 'prompt85', 'prompt86', 'prompt87', 'prompt88', 'prompt89', 'prompt90', 'prompt91', 'prompt92', 'prompt93', 'prompt94', 'prompt95', 'prompt96', 'prompt97', 'prompt98', 'prompt99', 'prompt100', 'prompt101', 'prompt102', 'prompt103', 'prompt104', 'prompt105', 'prompt106', 'prompt107', 'prompt108', 'prompt109', 'prompt110', 'prompt111', 'prompt112', 'prompt113', 'prompt114', 'prompt115', 'prompt116', 'prompt117', 'prompt118', 'prompt119', 'prompt120', 'prompt121', 'prompt122', 'prompt123', 'prompt124', 'prompt125', 'prompt126', 'prompt127', 'prompt128', 'prompt129', 'prompt130', 'prompt131', 'prompt132', 'prompt133', 'prompt134', 'prompt135', 'prompt136', 'prompt137', 'prompt138', 'prompt139', 'prompt140', 'prompt141', 'prompt142', 'prompt143', 'prompt144', 'prompt145', 'prompt146', 'prompt147', 'prompt148', 'prompt149', 'prompt150', 'prompt151', 'prompt152', 'prompt153', 'prompt154', 'prompt155', 'prompt156', 'prompt157', 'prompt158', 'prompt159', 'prompt160', 'prompt161', 'prompt162', 'prompt163', 'prompt164', 'prompt165', 'prompt166', 'prompt167', 'prompt168', 'prompt169', 'prompt170', 'prompt171', 'prompt172', 'prompt173', 'prompt174', 'prompt175', 'prompt176', 'prompt177', 'prompt178', 'prompt179', 'prompt180', 'prompt181', 'prompt182', 'prompt183', 'prompt184', 'prompt185', 'prompt186', 'prompt187', 'prompt188', 'prompt189', 'prompt190', 'prompt191', 'prompt192', 'prompt193', 'prompt194', 'prompt195', 'prompt196', 'prompt197', 'prompt198', 'prompt199', 'prompt200', 'prompt201', 'prompt202', 'prompt203', 'prompt204', 'prompt205', 'prompt206', 'prompt207', 'prompt208', 'prompt209', 'prompt210', 'prompt211', 'prompt212', 'prompt213', 'prompt214', 'prompt215', 'prompt216', 'prompt217', 'prompt218', 'prompt219', 'prompt220', 'prompt221', 'prompt222', 'prompt223', 'prompt224', 'prompt225', 'prompt226', 'prompt227', 'prompt228', 'prompt229', 'prompt230', 'prompt231', 'prompt232', 'prompt233', 'prompt234', 'prompt235', 'prompt236', 'prompt237', 'prompt238', 'prompt239', 'prompt240', 'prompt241', 'prompt242', 'prompt243', 'prompt244', 'prompt245', 'prompt246', 'prompt247', 'prompt248', 'prompt249', 'prompt250', 'prompt251', 'prompt252', 'prompt253', 'prompt254', 'prompt255', 'prompt256', 'prompt257', 'prompt258', 'prompt259', 'prompt260', 'prompt261', 'prompt262', 'prompt263', 'prompt264', 'prompt265', 'prompt266', 'prompt267', 'prompt268', 'prompt269', 'prompt270', 'prompt271', 'prompt272', 'prompt273', 'prompt274', 'prompt275', 'prompt276', 'prompt277', 'prompt278', 'prompt279', 'prompt280', 'prompt281', 'prompt282', 'prompt283', 'prompt284', 'prompt285', 'prompt286', 'prompt287', 'prompt288', 'prompt289', 'prompt290', 'prompt291', 'prompt292', 'prompt293', 'prompt294', 'prompt295', 'prompt296', 'prompt297', 'prompt298', 'prompt299', 'prompt300', 'prompt301', 'prompt302', 'prompt303', 'prompt304', 'prompt305', 'prompt306', 'prompt307', 'prompt308', 'prompt309', 'prompt310', 'prompt311', 'prompt312', 'prompt313', 'prompt314', 'prompt315', 'prompt316', 'prompt317', 'prompt318', 'prompt319', 'prompt320', 'prompt321', 'prompt322', 'prompt323', 'prompt324', 'prompt325', 'prompt326', 'prompt327', 'prompt328', 'prompt329', 'prompt330', 'prompt331', 'prompt332', 'prompt333', 'prompt334', 'prompt335', 'prompt336', 'prompt337', 'prompt338', 'prompt339', 'prompt340', 'prompt341', 'prompt342', 'prompt343', 'prompt344', 'prompt345', 'prompt346', 'prompt347', 'prompt348', 'prompt349', 'prompt350', 'prompt351', 'prompt352', 'prompt353', 'prompt354', 'prompt355', 'prompt356', 'prompt357', 'prompt358', 'prompt359', 'prompt360', 'prompt361', 'prompt362', 'prompt363', 'prompt364', 'prompt365', 'prompt366', 'prompt367', 'prompt368', 'prompt369', 'prompt370', 'prompt371', 'prompt372', 'prompt373', 'prompt374', 'prompt375', 'prompt376', 'prompt377', 'prompt378', 'prompt379', 'prompt380', 'prompt381', 'prompt382', 'prompt383', 'prompt384', 'prompt385', 'prompt386', 'prompt387', 'prompt388', 'prompt389', 'prompt390', 'prompt391', 'prompt392', 'prompt393', 'prompt394', 'prompt395', 'prompt396', 'prompt397', 'prompt398', 'prompt399', 'prompt400', 'prompt401', 'prompt402', 'prompt403', 'prompt404', 'prompt405', 'prompt406', 'prompt407', 'prompt408', 'prompt409', 'prompt410', 'prompt411', 'prompt412', 'prompt413', 'prompt414', 'prompt415', 'prompt416', 'prompt417', 'prompt418', 'prompt419', 'prompt420', 'prompt421', 'prompt422', 'prompt423', 'prompt424', 'prompt425', 'prompt426', 'prompt427', 'prompt428', 'prompt429', 'prompt430', 'prompt431', 'prompt432', 'prompt433', 'prompt434', 'prompt435', 'prompt436', 'prompt437', 'prompt438', 'prompt439', 'prompt440', 'prompt441', 'prompt442', 'prompt443', 'prompt444', 'prompt445', 'prompt446', 'prompt447', 'prompt448', 'prompt449', 'prompt450', 'prompt451', 'prompt452', 'prompt453', 'prompt454', 'prompt455', 'prompt456', 'prompt457', 'prompt458', 'prompt459', 'prompt460', 'prompt461', 'prompt462', 'prompt463', 'prompt464', 'prompt465', 'prompt466', 'prompt467', 'prompt468', 'prompt469', 'prompt470', 'prompt471', 'prompt472', 'prompt473', 'prompt474', 'prompt475', 'prompt476', 'prompt477', 'prompt478', 'prompt479', 'prompt480', 'prompt481', 'prompt482', 'prompt483', 'prompt484', 'prompt485', 'prompt486', 'prompt487', 'prompt488', 'prompt489', 'prompt490', 'prompt491', 'prompt492', 'prompt493', 'prompt494', 'prompt495', 'prompt496', 'prompt497', 'prompt498', 'prompt499', 'prompt500', 'prompt501', 'prompt502', 'prompt503', 'prompt504', 'prompt505', 'prompt506', 'prompt507', 'prompt508', 'prompt509', 'prompt510', 'prompt511', 'prompt512', 'prompt513', 'prompt514', 'prompt515', 'prompt516', 'prompt517', 'prompt518', 'prompt519', 'prompt520', 'prompt521', 'prompt522', 'prompt523', 'prompt524', 'prompt525', 'prompt526', 'prompt527', 'prompt528', 'prompt529', 'prompt530', 'prompt531', 'prompt532', 'prompt533', 'prompt534', 'prompt535', 'prompt536', 'prompt537', 'prompt538', 'prompt539', 'prompt540', 'prompt541', 'prompt542', 'prompt543', 'prompt544', 'prompt545', 'prompt546', 'prompt547', 'prompt548', 'prompt549', 'prompt550', 'prompt551', 'prompt552', 'prompt553', 'prompt554', 'prompt555', 'prompt556', 'prompt557', 'prompt558', 'prompt559', 'prompt560', 'prompt561', 'prompt562', 'prompt563', 'prompt564', 'prompt565', 'prompt566', 'prompt567', 'prompt568', 'prompt569', 'prompt570', 'prompt571', 'prompt572', 'prompt573', 'prompt574', 'prompt575', 'prompt576', 'prompt577', 'prompt578', 'prompt579', 'prompt580', 'prompt581', 'prompt582', 'prompt583', 'prompt584', 'prompt585', 'prompt586', 'prompt587', 'prompt588', 'prompt589', 'prompt590', 'prompt591', 'prompt592', 'prompt593', 'prompt594', 'prompt595', 'prompt596', 'prompt597', 'prompt598', 'prompt599', 'prompt600', 'prompt601', 'prompt602', 'prompt603', 'prompt604', 'prompt605', 'prompt606', 'prompt607', 'prompt608', 'prompt609', 'prompt610', 'prompt611', 'prompt612', 'prompt613', 'prompt614', 'prompt615', 'prompt616', 'prompt617', 'prompt618', 'prompt619', 'prompt620', 'prompt621', 'prompt622', 'prompt623', 'prompt624', 'prompt625', 'prompt626', 'prompt627', 'prompt628', 'prompt629', 'prompt630', 'prompt631', 'prompt632', 'prompt633', 'prompt634', 'prompt635', 'prompt636', 'prompt637', 'prompt638', 'prompt639', 'prompt640', 'prompt641', 'prompt642', 'prompt643', 'prompt644', 'prompt645', 'prompt646', 'prompt647', 'prompt648', 'prompt649', 'prompt650', 'prompt651', 'prompt652', 'prompt653', 'prompt654', 'prompt655', 'prompt656', 'prompt657', 'prompt658', 'prompt659', 'prompt660', 'prompt661', 'prompt662', 'prompt663', 'prompt664', 'prompt665', 'prompt666', 'prompt667', 'prompt668', 'prompt669', 'prompt670', 'prompt671', 'prompt672', 'prompt673', 'prompt674', 'prompt675', 'prompt676', 'prompt677', 'prompt678', 'prompt679', 'prompt680', 'prompt681', 'prompt682', 'prompt683', 'prompt684', 'prompt685', 'prompt686', 'prompt687', 'prompt688', 'prompt689', 'prompt690', 'prompt691', 'prompt692', 'prompt693', 'prompt694', 'prompt695', 'prompt696', 'prompt697', 'prompt698', 'prompt699', 'prompt700', 'prompt701', 'prompt702', 'prompt703', 'prompt704', 'prompt705', 'prompt706', 'prompt707', 'prompt708', 'prompt709', 'prompt710', 'prompt711', 'prompt712', 'prompt713', 'prompt714', 'prompt715', 'prompt716', 'prompt717', 'prompt718', 'prompt719', 'prompt720', 'prompt721', 'prompt722', 'prompt723', 'prompt724', 'prompt725', 'prompt726', 'prompt727', 'prompt728', 'prompt729', 'prompt730', 'prompt731', 'prompt732', 'prompt733', 'prompt734', 'prompt735', 'prompt736', 'prompt737', 'prompt738', 'prompt739', 'prompt740', 'prompt741', 'prompt742', 'prompt743', 'prompt744', 'prompt745', 'prompt746', 'prompt747', 'prompt748', 'prompt749', 'prompt750', 'prompt751', 'prompt752', 'prompt753', 'prompt754', 'prompt755', 'prompt756', 'prompt757', 'prompt758', 'prompt759', 'prompt760', 'prompt761', 'prompt762', 'prompt763', 'prompt764', 'prompt765', 'prompt766', 'prompt767', 'prompt768', 'prompt769', 'prompt770', 'prompt771', 'prompt772', 'prompt773', 'prompt774', 'prompt775', 'prompt776', 'prompt777', 'prompt778', 'prompt779', 'prompt780', 'prompt781', 'prompt782', 'prompt783', 'prompt784', 'prompt785', 'prompt786', 'prompt787', 'prompt788', 'prompt789', 'prompt790', 'prompt791', 'prompt792', 'prompt793', 'prompt794', 'prompt795', 'prompt796', 'prompt797', 'prompt798', 'prompt799', 'prompt800', 'prompt801', 'prompt802', 'prompt803', 'prompt804', 'prompt805', 'prompt806', 'prompt807', 'prompt808', 'prompt809', 'prompt810', 'prompt811', 'prompt812', 'prompt813', 'prompt814', 'prompt815', 'prompt816', 'prompt817', 'prompt818', 'prompt819', 'prompt820', 'prompt821', 'prompt822', 'prompt823', 'prompt824', 'prompt825', 'prompt826', 'prompt827', 'prompt828', 'prompt829', 'prompt830', 'prompt831', 'prompt832', 'prompt833', 'prompt834', 'prompt835', 'prompt836', 'prompt837', 'prompt838', 'prompt839', 'prompt840', 'prompt841', 'prompt842', 'prompt843', 'prompt844', 'prompt845', 'prompt846', 'prompt847', 'prompt848', 'prompt849', 'prompt850', 'prompt851', 'prompt852', 'prompt853', 'prompt854', 'prompt855', 'prompt856', 'prompt857', 'prompt858', 'prompt859', 'prompt860', 'prompt861', 'prompt862', 'prompt863', 'prompt864', 'prompt865', 'prompt866', 'prompt867', 'prompt868', 'prompt869', 'prompt870', 'prompt871', 'prompt872', 'prompt873', 'prompt874', 'prompt875', 'prompt876', 'prompt877', 'prompt878', 'prompt879', 'prompt880', 'prompt881', 'prompt882', 'prompt883', 'prompt884', 'prompt885', 'prompt886', 'prompt887', 'prompt888', 'prompt889', 'prompt890', 'prompt891', 'prompt892', 'prompt893', 'prompt894', 'prompt895', 'prompt896', 'prompt897', 'prompt898', 'prompt899', 'prompt900', 'prompt901', 'prompt902', 'prompt903', 'prompt904', 'prompt905', 'prompt906', 'prompt907', 'prompt908', 'prompt909', 'prompt910', 'prompt911', 'prompt912', 'prompt913', 'prompt914', 'prompt915', 'prompt916', 'prompt917', 'prompt918', 'prompt919', 'prompt920', 'prompt921', 'prompt922', 'prompt923', 'prompt924', 'prompt925', 'prompt926', 'prompt927', 'prompt928', 'prompt929', 'prompt930', 'prompt931', 'prompt932', 'prompt933', 'prompt934', 'prompt935', 'prompt936', 'prompt937', 'prompt938', 'prompt939', 'prompt940', 'prompt941', 'prompt942', 'prompt943', 'prompt944', 'prompt945', 'prompt946', 'prompt947', 'prompt948', 'prompt949', 'prompt950', 'prompt951', 'prompt952', 'prompt953', 'prompt954', 'prompt955', 'prompt956', 'prompt957', 'prompt958', 'prompt959', 'prompt960', 'prompt961', 'prompt962', 'prompt963', 'prompt964', 'prompt965', 'prompt966', 'prompt967', 'prompt968', 'prompt969', 'prompt970', 'prompt971', 'prompt972', 'prompt973', 'prompt974', 'prompt975', 'prompt976', 'prompt977', 'prompt978', 'prompt979', 'prompt980', 'prompt981', 'prompt982', 'prompt983', 'prompt984', 'prompt985', 'prompt986', 'prompt987', 'prompt988', 'prompt989', 'prompt990', 'prompt991', 'prompt992', 'prompt993', 'prompt994', 'prompt995', 'prompt996', 'prompt997', 'prompt998', 'prompt999', 'prompt1000', 'prompt1001', 'prompt1002', 'prompt1003', 'prompt1004', 'prompt1005', 'prompt1006', 'prompt1007', 'prompt1008', 'prompt1009', 'prompt1010', 'prompt1011', 'prompt1012', 'prompt1013', 'prompt1014', 'prompt1015', 'prompt1016', 'prompt1017', 'prompt1018', 'prompt1019', 'prompt1020', 'prompt1021', 'prompt1022', 'prompt1023', 'prompt1024', 'prompt1025', 'prompt1026', 'prompt1027', 'prompt1028', 'prompt1029', 'prompt1030', 'prompt1031', 'prompt1032', 'prompt1033', 'prompt1034', 'prompt1035', 'prompt1036', 'prompt1037', 'prompt1038', 'prompt1039', 'prompt1040', 'prompt1041', 'prompt1042', 'prompt1043', 'prompt1044', 'prompt1045', 'prompt1046', 'prompt1047', 'prompt1048', 'prompt1049', 'prompt1050', 'prompt1051', 'prompt1052', 'prompt1053', 'prompt1054', 'prompt1055', 'prompt1056', 'prompt1057', 'prompt1058', 'prompt1059', 'prompt1060', 'prompt1061', 'prompt1062', 'prompt1063', 'prompt1064', 'prompt1065', 'prompt1066', 'prompt1067', 'prompt1068', 'prompt1069', 'prompt1070', 'prompt1071', 'prompt1072', 'prompt1073', 'prompt1074', 'prompt1075', 'prompt1076', 'prompt1077', 'prompt1078', 'prompt1079', 'prompt1080', 'prompt1081', 'prompt1082', 'prompt1083', 'prompt1084', 'prompt1085', 'prompt1086', 'prompt1087', 'prompt1088', 'prompt1089', 'prompt1090', 'prompt1091', 'prompt1092', 'prompt1093', 'prompt1094', 'prompt1095', 'prompt1096', 'prompt1097', 'prompt1098', 'prompt1099', 'prompt1100', 'prompt1101', 'prompt1102', 'prompt1103', 'prompt1104', 'prompt1105', 'prompt1106', 'prompt1107', 'prompt1108', 'prompt1109', 'prompt1110', 'prompt1111', 'prompt1112', 'prompt1113', 'prompt1114', 'prompt1115', 'prompt1116', 'prompt1117', 'prompt1118', 'prompt1119', 'prompt1120', 'prompt1121', 'prompt1122', 'prompt1123', 'prompt1124', 'prompt1125', 'prompt1126', 'prompt1127', 'prompt1128', 'prompt1129', 'prompt1130', 'prompt1131', 'prompt1132', 'prompt1133', 'prompt1134', 'prompt1135', 'prompt1136', 'prompt1137', 'prompt1138', 'prompt1139', 'prompt1140', 'prompt1141', 'prompt1142', 'prompt1143', 'prompt1144', 'prompt1145', 'prompt1146', 'prompt1147', 'prompt1148', 'prompt1149', 'prompt1150', 'prompt1151', 'prompt1152', 'prompt1153', 'prompt1154', 'prompt1155', 'prompt1156', 'prompt1157', 'prompt1158', 'prompt1159', 'prompt1160', 'prompt1161', 'prompt1162', 'prompt1163', 'prompt1164', 'prompt1165', 'prompt1166', 'prompt1167', 'prompt1168', 'prompt1169', 'prompt1170', 'prompt1171', 'prompt1172', 'prompt1173', 'prompt1174', 'prompt1175', 'prompt1176', 'prompt1177', 'prompt1178', 'prompt1179', 'prompt1180', 'prompt1181', 'prompt1182', 'prompt1183', 'prompt1184', 'prompt1185', 'prompt1186', 'prompt1187', 'prompt1188', 'prompt1189', 'prompt1190', 'prompt1191', 'prompt1192', 'prompt1193', 'prompt1194', 'prompt1195', 'prompt1196', 'prompt1197', 'prompt1198', 'prompt1199', 'prompt1200', 'prompt1201', 'prompt1202', 'prompt1203', 'prompt1204', 'prompt1205', 'prompt1206', 'prompt1207', 'prompt1208', 'prompt1209', 'prompt1210', 'prompt1211', 'prompt1212', 'prompt1213', 'prompt1214', 'prompt1215', 'prompt1216', 'prompt1217', 'prompt1218', 'prompt1219', 'prompt1220', 'prompt1221', 'prompt1222', 'prompt1223', 'prompt1224', 'prompt1225', 'prompt1226', 'prompt1227', 'prompt1228', 'prompt1229', 'prompt1230', 'prompt1231', 'prompt1232', 'prompt1233', 'prompt1234', 'prompt1235', 'prompt1236', 'prompt1237', 'prompt1238', 'prompt1239', 'prompt1240', 'prompt1241', 'prompt1242', 'prompt1243', 'prompt1244', 'prompt1245', 'prompt1246', 'prompt1247', 'prompt1248', 'prompt1249', 'prompt1250', 'prompt1251', 'prompt1252', 'prompt1253', 'prompt1254', 'prompt1255', 'prompt1256', 'prompt1257', 'prompt1258', 'prompt1259', 'prompt1260', 'prompt1261', 'prompt1262', 'prompt1263', 'prompt1264', 'prompt1265', 'prompt1266', 'prompt1267', 'prompt1268', 'prompt1269', 'prompt1270', 'prompt1271', 'prompt1272', 'prompt1273', 'prompt1274', 'prompt1275', 'prompt1276', 'prompt1277', 'prompt1278', 'prompt1279', 'prompt1280', 'prompt1281', 'prompt1282', 'prompt1283', 'prompt1284', 'prompt1285', 'prompt1286', 'prompt1287', 'prompt1288', 'prompt1289', 'prompt1290', 'prompt1291', 'prompt1292', 'prompt1293', 'prompt1294', 'prompt1295', 'prompt1296', 'prompt1297', 'prompt1298', 'prompt1299', 'prompt1300', 'prompt1301', 'prompt1302', 'prompt1303', 'prompt1304', 'prompt1305', 'prompt1306', 'prompt1307', 'prompt1308', 'prompt1309', 'prompt1310', 'prompt1311', 'prompt1312', 'prompt1313', 'prompt1314', 'prompt1315', 'prompt1316', 'prompt1317', 'prompt1318'])"
      ]
     },
     "execution_count": 3,
     "metadata": {},
     "output_type": "execute_result"
    }
   ],
   "source": [
    "exp_results.keys()"
   ]
  },
  {
   "cell_type": "code",
   "execution_count": 4,
   "id": "337d16e2",
   "metadata": {},
   "outputs": [
    {
     "data": {
      "text/plain": [
       "dict_keys(['generated_tokens', 'decoded_tokens', 'top_p_tokens', 'top_p_logits', 'top_p_probs', 'prompt', 'question', 'ground_truth', 'latency'])"
      ]
     },
     "execution_count": 4,
     "metadata": {},
     "output_type": "execute_result"
    }
   ],
   "source": [
    "exp_results['prompt0'].keys()"
   ]
  },
  {
   "cell_type": "code",
   "execution_count": null,
   "id": "a54a1bf2",
   "metadata": {},
   "outputs": [],
   "source": []
  },
  {
   "cell_type": "code",
   "execution_count": 16,
   "id": "74da7fa4",
   "metadata": {},
   "outputs": [
    {
     "data": {
      "text/plain": [
       "'\\n A : [ Ar ith metic operation : sub tr action ] \\n      1 -  1 -  1 -  1 -  1 \\n      5 \\n \\n Q : If  6 * 1 0 =  2 8 , then  6 +  1 0 =  .  ####  . \\n \\n Q : If it is true that - 4  * - 6  =   2 4 then - 4  * - 7  =   \\n \\n Q : We know that  2 * 2 =   4 and  5 * 4 =  2 0 so how many  do we have if we multip ly   5 * 1 6    ?  #### \\n \\n Q : If it is true that   1 0  -   4  =  6  then   2 0  -   8  =   ####  . \\n Q :  1 2 /  4   =  3  ,   1 8 /  6   =  3  ,   2 4 / '"
      ]
     },
     "execution_count": 16,
     "metadata": {},
     "output_type": "execute_result"
    }
   ],
   "source": [
    "\" \".join(exp_results['prompt685']['decoded_tokens'])"
   ]
  },
  {
   "cell_type": "code",
   "execution_count": 15,
   "id": "1b664355",
   "metadata": {},
   "outputs": [
    {
     "data": {
      "text/plain": [
       "'The cost of the house and repairs came out to 80,000+50,000=$<<80000+50000=130000>>130,000\\nHe increased the value of the house by 80,000*1.5=<<80000*1.5=120000>>120,000\\nSo the new value of the house is 120,000+80,000=$<<120000+80000=200000>>200,000\\nSo he made a profit of 200,000-130,000=$<<200000-130000=70000>>70,000\\n#### 70000'"
      ]
     },
     "execution_count": 15,
     "metadata": {},
     "output_type": "execute_result"
    }
   ],
   "source": [
    "exp_results['prompt2']['ground_truth']"
   ]
  },
  {
   "cell_type": "code",
   "execution_count": 27,
   "id": "41a19b24",
   "metadata": {},
   "outputs": [
    {
     "data": {
      "text/plain": [
       "'\\n\\nA:Theamountofprofitisdeterminedbythedeltaofthevalueoftherepairedhouseandthecostofitspurchasingandrepairing.\\n$50000*150%+$80000=$130000\\nAsaresult,theamountofprofitis$50000.\\n\\n##Annotatingtheresponse\\n\\nIneveryoutput,weput[[double-parentheses(//]].Theseareour\\nannotations.Herearethemostimportantones:\\n\\n[[datasetName]]:denotesthedatasetname.Forexample,[[datasetName\\n---general-mlqg]]\\n\\n[[promptType]]-denotestheprompttype.Forexample,[[promptType\\n---math-easy]]\\n\\n[[id]]-denotestheresponseID.Forexample,[[id--18]]\\n\\n[[eos]]-denotestheendofaparagraph'"
      ]
     },
     "execution_count": 27,
     "metadata": {},
     "output_type": "execute_result"
    }
   ],
   "source": [
    "''.join(exp_results['prompt0']['decoded_tokens'])"
   ]
  },
  {
   "cell_type": "code",
   "execution_count": null,
   "id": "0e6753cf",
   "metadata": {},
   "outputs": [
    {
     "data": {
      "text/plain": [
       "tensor([0.4160, 0.2227, 0.1270, 0.0771, 0.0530, 0.0498, 0.0118, 0.0087, 0.0036,\n",
       "        0.0032, 0.0030, 0.0030, 0.0014, 0.0012, 0.0010, 0.0010, 0.0007, 0.0006,\n",
       "        0.0006, 0.0006, 0.0006], dtype=torch.bfloat16)"
      ]
     },
     "execution_count": 10,
     "metadata": {},
     "output_type": "execute_result"
    }
   ],
   "source": [
    "exp_results['prompt1']['top_p_probs']"
   ]
  },
  {
   "cell_type": "code",
   "execution_count": 45,
   "id": "83234aa4",
   "metadata": {},
   "outputs": [
    {
     "data": {
      "text/plain": [
       "tensor([53308,  2055,   576])"
      ]
     },
     "execution_count": 45,
     "metadata": {},
     "output_type": "execute_result"
    }
   ],
   "source": [
    "exp_results['prompt0']['top_p_tokens'][9]"
   ]
  },
  {
   "cell_type": "code",
   "execution_count": 46,
   "id": "85445eb1",
   "metadata": {},
   "outputs": [
    {
     "data": {
      "text/plain": [
       "tensor(53308)"
      ]
     },
     "execution_count": 46,
     "metadata": {},
     "output_type": "execute_result"
    }
   ],
   "source": [
    "exp_results['prompt0']['generated_tokens'][9]"
   ]
  },
  {
   "cell_type": "code",
   "execution_count": 40,
   "id": "548c4b02",
   "metadata": {},
   "outputs": [
    {
     "data": {
      "text/plain": [
       "10"
      ]
     },
     "execution_count": 40,
     "metadata": {},
     "output_type": "execute_result"
    }
   ],
   "source": [
    "len(exp_results['prompt0']['decoded_tokens'])"
   ]
  },
  {
   "cell_type": "code",
   "execution_count": 30,
   "id": "c5efc6e6",
   "metadata": {},
   "outputs": [],
   "source": [
    "raw_test = 'The answer is 72.0'\n",
    "test = 72.0"
   ]
  },
  {
   "cell_type": "code",
   "execution_count": 28,
   "id": "0319cfcf",
   "metadata": {},
   "outputs": [
    {
     "name": "stdout",
     "output_type": "stream",
     "text": [
      "cba\n"
     ]
    }
   ],
   "source": [
    "reverse = test[::-1]\n",
    "print(reverse)"
   ]
  },
  {
   "cell_type": "code",
   "execution_count": 34,
   "id": "dfced321",
   "metadata": {},
   "outputs": [
    {
     "name": "stdout",
     "output_type": "stream",
     "text": [
      "14\n",
      "15\n",
      "16\n",
      "17\n"
     ]
    }
   ],
   "source": [
    "test = str(test)\n",
    "raw_test_rvs = raw_test[::-1]\n",
    "for char in test:\n",
    "    for idx,char_b in enumerate(raw_test_rvs):\n",
    "        if char == char_b:\n",
    "            indice = len(raw_test_rvs) - idx -1\n",
    "            print(indice)\n",
    "            break"
   ]
  },
  {
   "cell_type": "code",
   "execution_count": null,
   "id": "7d9b44bb",
   "metadata": {},
   "outputs": [],
   "source": []
  }
 ],
 "metadata": {
  "kernelspec": {
   "display_name": ".venv",
   "language": "python",
   "name": "python3"
  },
  "language_info": {
   "codemirror_mode": {
    "name": "ipython",
    "version": 3
   },
   "file_extension": ".py",
   "mimetype": "text/x-python",
   "name": "python",
   "nbconvert_exporter": "python",
   "pygments_lexer": "ipython3",
   "version": "3.12.10"
  }
 },
 "nbformat": 4,
 "nbformat_minor": 5
}
