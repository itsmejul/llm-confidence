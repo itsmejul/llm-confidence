{
 "cells": [
  {
   "cell_type": "code",
   "execution_count": 2,
   "id": "8a541bb4",
   "metadata": {},
   "outputs": [],
   "source": [
    "import torch"
   ]
  },
  {
   "cell_type": "code",
   "execution_count": 3,
   "id": "b8d7a82b",
   "metadata": {},
   "outputs": [],
   "source": [
    "tensor_path = \"/home/max/Studium/Leipzig/Semster6/Math_and_ML/math-ml/experiments/test_new_pipeline/output_2025-06-01_21-32.pt\"\n",
    "exp_results = torch.load(tensor_path)"
   ]
  },
  {
   "cell_type": "code",
   "execution_count": 4,
   "id": "c61ac683",
   "metadata": {},
   "outputs": [
    {
     "data": {
      "text/plain": [
       "dict_keys(['prompt0', 'prompt1', 'prompt2', 'prompt3', 'prompt4', 'prompt5', 'prompt6', 'prompt7', 'prompt8', 'prompt9'])"
      ]
     },
     "execution_count": 4,
     "metadata": {},
     "output_type": "execute_result"
    }
   ],
   "source": [
    "exp_results.keys()"
   ]
  },
  {
   "cell_type": "code",
   "execution_count": null,
   "id": "337d16e2",
   "metadata": {},
   "outputs": [
    {
     "data": {
      "text/plain": [
       "dict_keys(['generated_tokens', 'decoded_tokens', 'top_p_tokens', 'top_p_logits', 'top_p_probs', 'prompt', 'question', 'ground_truth', 'latency'])"
      ]
     },
     "execution_count": 5,
     "metadata": {},
     "output_type": "execute_result"
    }
   ],
   "source": [
    "exp_results['prompt0'].keys()"
   ]
  },
  {
   "cell_type": "code",
   "execution_count": 20,
   "id": "74da7fa4",
   "metadata": {},
   "outputs": [
    {
     "data": {
      "text/plain": [
       "['And',\n",
       " 'where',\n",
       " 'should',\n",
       " 'he',\n",
       " 'go',\n",
       " 'for',\n",
       " 'lunch',\n",
       " '?',\n",
       " '\\n',\n",
       " 'A',\n",
       " ':',\n",
       " '\"',\n",
       " '8',\n",
       " '6',\n",
       " 'dollars',\n",
       " 'At',\n",
       " 'g',\n",
       " 'ust',\n",
       " 'o',\n",
       " '\"',\n",
       " '\\n',\n",
       " 'Q',\n",
       " ':',\n",
       " 'K',\n",
       " 'yl',\n",
       " 'ar',\n",
       " 'went',\n",
       " 'to',\n",
       " 'the',\n",
       " 'store',\n",
       " 'to',\n",
       " 'buy',\n",
       " 'glasses',\n",
       " 'for',\n",
       " 'his',\n",
       " 'new',\n",
       " 'apartment',\n",
       " '.',\n",
       " 'One',\n",
       " 'glass',\n",
       " 'costs',\n",
       " '$',\n",
       " '5',\n",
       " ',',\n",
       " 'but',\n",
       " 'every',\n",
       " 'second',\n",
       " 'glass',\n",
       " 'costs',\n",
       " 'only',\n",
       " '',\n",
       " '6',\n",
       " '0',\n",
       " '%',\n",
       " 'of',\n",
       " 'the',\n",
       " 'price',\n",
       " '.',\n",
       " 'K',\n",
       " 'yl',\n",
       " 'ar',\n",
       " 'wants',\n",
       " 'to',\n",
       " 'buy',\n",
       " '',\n",
       " '1',\n",
       " '6',\n",
       " 'glasses',\n",
       " '.',\n",
       " 'But',\n",
       " 'today',\n",
       " ',',\n",
       " 'Bob',\n",
       " 'has',\n",
       " 'a',\n",
       " 'student',\n",
       " 'discount',\n",
       " 'and',\n",
       " 'only',\n",
       " 'needs',\n",
       " 'to',\n",
       " 'pay',\n",
       " '',\n",
       " '9',\n",
       " '0',\n",
       " '%',\n",
       " 'of',\n",
       " 'the',\n",
       " 'price',\n",
       " '.',\n",
       " 'How',\n",
       " 'much',\n",
       " 'will',\n",
       " 'Bob',\n",
       " 'need',\n",
       " 'to',\n",
       " 'pay',\n",
       " 'for',\n",
       " 'the',\n",
       " 'glasses']"
      ]
     },
     "execution_count": 20,
     "metadata": {},
     "output_type": "execute_result"
    }
   ],
   "source": [
    "exp_results['prompt4']['decoded_tokens']"
   ]
  },
  {
   "cell_type": "code",
   "execution_count": 19,
   "id": "1b664355",
   "metadata": {},
   "outputs": [
    {
     "data": {
      "text/plain": [
       "'The discount price of one glass is 60/100 * 5 = $<<60/100*5=3>>3.\\nIf every second glass is cheaper, that means Kylar is going to buy 16 / 2 = <<16/2=8>>8 cheaper glasses.\\nSo for the cheaper glasses, Kylar is going to pay 8 * 3 = $<<8*3=24>>24.\\nAnd for the regular-priced glasses, Kylar will pay 8 * 5 = $<<8*5=40>>40.\\nSo in total Kylar needs to pay 24 + 40 = $<<24+40=64>>64 for the glasses he wants to buy.\\n#### 64'"
      ]
     },
     "execution_count": 19,
     "metadata": {},
     "output_type": "execute_result"
    }
   ],
   "source": [
    "exp_results['prompt4']['ground_truth']"
   ]
  },
  {
   "cell_type": "code",
   "execution_count": 45,
   "id": "41a19b24",
   "metadata": {},
   "outputs": [
    {
     "data": {
      "text/plain": [
       "'\\nA:16eggs-3forbreakfast=13eggs;13eggs-4formuffins=9eggs;9eggs*$2=$18<eos'"
      ]
     },
     "execution_count": 45,
     "metadata": {},
     "output_type": "execute_result"
    }
   ],
   "source": [
    "''.join(exp_results['prompt0']['decoded_tokens'])"
   ]
  },
  {
   "cell_type": "code",
   "execution_count": null,
   "id": "0e6753cf",
   "metadata": {},
   "outputs": [
    {
     "data": {
      "text/plain": [
       "tensor([0.4160, 0.2227, 0.1270, 0.0771, 0.0530, 0.0498, 0.0118, 0.0087, 0.0036,\n",
       "        0.0032, 0.0030, 0.0030, 0.0014, 0.0012, 0.0010, 0.0010, 0.0007, 0.0006,\n",
       "        0.0006, 0.0006, 0.0006], dtype=torch.bfloat16)"
      ]
     },
     "execution_count": 10,
     "metadata": {},
     "output_type": "execute_result"
    }
   ],
   "source": [
    "exp_results['prompt1']['top_p_probs']"
   ]
  },
  {
   "cell_type": "code",
   "execution_count": 45,
   "id": "83234aa4",
   "metadata": {},
   "outputs": [
    {
     "data": {
      "text/plain": [
       "tensor([53308,  2055,   576])"
      ]
     },
     "execution_count": 45,
     "metadata": {},
     "output_type": "execute_result"
    }
   ],
   "source": [
    "exp_results['prompt0']['top_p_tokens'][9]"
   ]
  },
  {
   "cell_type": "code",
   "execution_count": 46,
   "id": "85445eb1",
   "metadata": {},
   "outputs": [
    {
     "data": {
      "text/plain": [
       "tensor(53308)"
      ]
     },
     "execution_count": 46,
     "metadata": {},
     "output_type": "execute_result"
    }
   ],
   "source": [
    "exp_results['prompt0']['generated_tokens'][9]"
   ]
  },
  {
   "cell_type": "code",
   "execution_count": 40,
   "id": "548c4b02",
   "metadata": {},
   "outputs": [
    {
     "data": {
      "text/plain": [
       "10"
      ]
     },
     "execution_count": 40,
     "metadata": {},
     "output_type": "execute_result"
    }
   ],
   "source": [
    "len(exp_results['prompt0']['decoded_tokens'])"
   ]
  },
  {
   "cell_type": "code",
   "execution_count": 30,
   "id": "c5efc6e6",
   "metadata": {},
   "outputs": [],
   "source": [
    "raw_test = 'The answer is 72.0'\n",
    "test = 72.0"
   ]
  },
  {
   "cell_type": "code",
   "execution_count": 28,
   "id": "0319cfcf",
   "metadata": {},
   "outputs": [
    {
     "name": "stdout",
     "output_type": "stream",
     "text": [
      "cba\n"
     ]
    }
   ],
   "source": [
    "reverse = test[::-1]\n",
    "print(reverse)"
   ]
  },
  {
   "cell_type": "code",
   "execution_count": 34,
   "id": "dfced321",
   "metadata": {},
   "outputs": [
    {
     "name": "stdout",
     "output_type": "stream",
     "text": [
      "14\n",
      "15\n",
      "16\n",
      "17\n"
     ]
    }
   ],
   "source": [
    "test = str(test)\n",
    "raw_test_rvs = raw_test[::-1]\n",
    "for char in test:\n",
    "    for idx,char_b in enumerate(raw_test_rvs):\n",
    "        if char == char_b:\n",
    "            indice = len(raw_test_rvs) - idx -1\n",
    "            print(indice)\n",
    "            break"
   ]
  },
  {
   "cell_type": "code",
   "execution_count": null,
   "id": "7d9b44bb",
   "metadata": {},
   "outputs": [],
   "source": []
  }
 ],
 "metadata": {
  "kernelspec": {
   "display_name": ".venv",
   "language": "python",
   "name": "python3"
  },
  "language_info": {
   "codemirror_mode": {
    "name": "ipython",
    "version": 3
   },
   "file_extension": ".py",
   "mimetype": "text/x-python",
   "name": "python",
   "nbconvert_exporter": "python",
   "pygments_lexer": "ipython3",
   "version": "3.12.10"
  }
 },
 "nbformat": 4,
 "nbformat_minor": 5
}
