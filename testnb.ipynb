{
 "cells": [
  {
   "cell_type": "code",
   "execution_count": 2,
   "id": "e5dc7162",
   "metadata": {},
   "outputs": [
    {
     "name": "stdout",
     "output_type": "stream",
     "text": [
      "6\n"
     ]
    }
   ],
   "source": [
    "a = 3 & 5\n",
    "a = 3 ^ 5\n",
    "print(a)"
   ]
  },
  {
   "cell_type": "code",
   "execution_count": null,
   "id": "634bad85",
   "metadata": {},
   "outputs": [],
   "source": [
    "from typing import List\n",
    "def and_list(nums: List[int]) -> int:\n",
    "    # Start with first element\n",
    "    res = nums[0]\n",
    "    for num in nums[1:]: # apply bitwise AND using all elements except for the first one\n",
    "        res = res & num\n",
    "    return res \n",
    "\n",
    "def xor_list(nums: List[int]) -> int:\n",
    "    # Start with first element\n",
    "    res = nums[0]\n",
    "    for num in nums[1:]:\n",
    "        res = res ^ num  # Apply bitwise XOR using all elements except for the first one\n",
    "    return res"
   ]
  },
  {
   "cell_type": "code",
   "execution_count": 5,
   "id": "52fe259f",
   "metadata": {},
   "outputs": [
    {
     "name": "stdout",
     "output_type": "stream",
     "text": [
      "1\n",
      "7\n"
     ]
    }
   ],
   "source": [
    "print(and_list([3,5,1]))\n",
    "print(xor_list([3,5,1]))"
   ]
  },
  {
   "cell_type": "code",
   "execution_count": 9,
   "id": "e7ce6181",
   "metadata": {},
   "outputs": [],
   "source": [
    "from typing import List\n",
    "\n",
    "def contiguous_sublists(original_list: List[int]) -> List[List[int]]:\n",
    "    res = []\n",
    "    length = len(original_list)\n",
    "    # Iterate through all possible combinations of sublist start and end indices\n",
    "    for left in range(length):\n",
    "        for right in range(left + 1, length + 1): # Because list slicing end index is exclusive, and range end index is also exclusive, we have to go until j = length + 1\n",
    "            sublist = original_list[left:right]  # Extract the sublist between i and j via list slicing (which will be contiguous)\n",
    "            res += [sublist]\n",
    "    return res\n",
    "\n",
    "\n",
    "def f(original_list: List[int]) -> int:\n",
    "    # Find all sublists\n",
    "    sublists = contiguous_sublists(original_list=original_list)\n",
    "    # Calculate bitwise XORs of the sublists\n",
    "    sublist_xors = [xor_list(sublist) for sublist in sublists]\n",
    "    # Use bitwise AND to combine all the values together\n",
    "    res = and_list(sublist_xors)\n",
    "    return res"
   ]
  },
  {
   "cell_type": "code",
   "execution_count": 15,
   "id": "917ae214",
   "metadata": {},
   "outputs": [],
   "source": [
    "def f_eff(original_list: List[int]) -> int:\n",
    "    length = len(original_list)\n",
    "\n",
    "    # Construct a prefix XOR array . prefix_array[i] will be the xor total of all values up until i \n",
    "    # This is due to how XOR works.\n",
    "    # We can use this to our advantage, since now prefix_array[j] XOR prefix_array[i] will be the XOR total of the slice between i and j\n",
    "    # This is similar to a normal prefix sum array where we would add all numbers cumutatively, and the sum of a sublist is the subtraction between two points in the prefix array\n",
    "    # Just that we use XOR instead of addition\n",
    "    # We make the prefix array one position longer and append a 0 at the beginning, in order to be able to compute prefix of sublists starting at index 0\n",
    "    # Because 0 XOR n will be n\n",
    "    # Analog to a prefix sum array, where we would need a 0 at the start to \"subtract 0\" from sublists starting at index 0. If we started at index 1, it would subtract that value\n",
    "    prefix_array = [0] * (length + 1)\n",
    "    for i in range(1, length + 1):\n",
    "        prefix_array[i] = prefix_array[i-1] ^ original_list[i-1]\n",
    "\n",
    "    if length == 0: # Otherwise we get an error later because the bitwise AND needs at least two values\n",
    "        return 0 \n",
    "\n",
    "    # This is for the bitwise AND result, we start with the bitwise AND of the first two\n",
    "    # Since we still need to look at each (contiguous) subarray once, we cannot get around the two nested loops \n",
    "    res = prefix_array[1] ^ prefix_array[0]\n",
    "\n",
    "    for i in range(length):\n",
    "        for j in range(i+1, length+1):\n",
    "            if not (i == 0 and j == 1):   # Check that its not the starting case (which we already initialized)\n",
    "                sublist_xor = prefix_array[j] ^ prefix_array[i]  # Compute the XOR of the sublist (as explained earlier)\n",
    "                res = res & sublist_xor\n",
    "    return res\n"
   ]
  },
  {
   "cell_type": "code",
   "execution_count": 16,
   "id": "93d8d0cc",
   "metadata": {},
   "outputs": [
    {
     "name": "stdout",
     "output_type": "stream",
     "text": [
      "0\n"
     ]
    }
   ],
   "source": [
    "print(f_eff([3,5,1]))"
   ]
  }
 ],
 "metadata": {
  "kernelspec": {
   "display_name": ".venv",
   "language": "python",
   "name": "python3"
  },
  "language_info": {
   "codemirror_mode": {
    "name": "ipython",
    "version": 3
   },
   "file_extension": ".py",
   "mimetype": "text/x-python",
   "name": "python",
   "nbconvert_exporter": "python",
   "pygments_lexer": "ipython3",
   "version": "3.12.9"
  }
 },
 "nbformat": 4,
 "nbformat_minor": 5
}
