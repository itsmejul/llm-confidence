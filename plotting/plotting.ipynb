{
 "cells": [
  {
   "cell_type": "code",
   "execution_count": 1,
   "id": "fa13d3a0",
   "metadata": {},
   "outputs": [],
   "source": [
    "import torch"
   ]
  },
  {
   "cell_type": "code",
   "execution_count": 11,
   "id": "072838c6",
   "metadata": {},
   "outputs": [],
   "source": [
    "test = torch.load(\"/home/max/Studium/Leipzig/Semster6/Math_and_ML/math-ml/output.pt\")"
   ]
  },
  {
   "cell_type": "code",
   "execution_count": 12,
   "id": "cc6a664e",
   "metadata": {},
   "outputs": [
    {
     "name": "stdout",
     "output_type": "stream",
     "text": [
      "dict_keys(['prompt0', 'prompt1', 'prompt2', 'prompt3', 'prompt4', 'prompt5', 'prompt6', 'prompt7', 'prompt8', 'prompt9', 'prompt10', 'prompt11', 'prompt12', 'prompt13', 'prompt14', 'prompt15', 'prompt16', 'prompt17', 'prompt18', 'prompt19', 'prompt20', 'prompt21', 'prompt22', 'prompt23', 'prompt24', 'prompt25', 'prompt26', 'prompt27', 'prompt28', 'prompt29', 'prompt30', 'prompt31', 'prompt32', 'prompt33', 'prompt34', 'prompt35', 'prompt36', 'prompt37', 'prompt38', 'prompt39', 'prompt40', 'prompt41', 'prompt42', 'prompt43', 'prompt44', 'prompt45', 'prompt46', 'prompt47', 'prompt48', 'prompt49', 'prompt50', 'prompt51', 'prompt52', 'prompt53', 'prompt54', 'prompt55', 'prompt56', 'prompt57', 'prompt58', 'prompt59', 'prompt60', 'prompt61', 'prompt62', 'prompt63', 'prompt64', 'prompt65', 'prompt66', 'prompt67', 'prompt68', 'prompt69', 'prompt70', 'prompt71', 'prompt72', 'prompt73', 'prompt74', 'prompt75', 'prompt76', 'prompt77', 'prompt78', 'prompt79', 'prompt80', 'prompt81', 'prompt82', 'prompt83', 'prompt84', 'prompt85', 'prompt86', 'prompt87', 'prompt88', 'prompt89', 'prompt90', 'prompt91', 'prompt92', 'prompt93', 'prompt94', 'prompt95', 'prompt96', 'prompt97', 'prompt98', 'prompt99'])\n",
      "100\n"
     ]
    }
   ],
   "source": [
    "print(test.keys())\n",
    "print(len(test.keys()))"
   ]
  },
  {
   "cell_type": "code",
   "execution_count": null,
   "id": "40711aec",
   "metadata": {},
   "outputs": [],
   "source": []
  },
  {
   "cell_type": "code",
   "execution_count": 13,
   "id": "249febc4",
   "metadata": {},
   "outputs": [
    {
     "data": {
      "text/plain": [
       "dict_keys(['top_p_tokens', 'top_p_probs', 'top_p_logits', 'generated_tokens', 'entropies', 'cosines', 'prompt'])"
      ]
     },
     "execution_count": 13,
     "metadata": {},
     "output_type": "execute_result"
    }
   ],
   "source": [
    "test['prompt0'].keys()"
   ]
  },
  {
   "cell_type": "code",
   "execution_count": 7,
   "id": "159cd631",
   "metadata": {},
   "outputs": [
    {
     "data": {
      "text/plain": [
       "tensor([151667,    198,  32313,     11,   1077,    594,   1490,     13,   2055,\n",
       "           279,   3491,    374,    911,  53665,    594,  77778,  34644,  18805,\n",
       "            11,    323,  47209,    700,   1246,   1753,   3220,   1340,   3643,\n",
       "           518,    279,  20336,      6,   3081,   1817,   1899,     13,   6771,\n",
       "           752,   1438,    432,   1495,   3019,    553,   3019,    382,   5338,\n",
       "            11,    279,  77778,  10962,    220,     16,     21,  18805,    817,\n",
       "          1899,     13,   2938,    594,    279,   5916,   1459,     13,   5005,\n",
       "            11,  53665,   5711,   1045,    315,   1493,  18805,    369,   1059,\n",
       "          1828,  15293,    323,    369,  27815,  54304,   1330,     13,   2932,\n",
       "         49677,   2326,  18805,    369,  17496,   1449,   6556,     13,   2055,\n",
       "           429,    594,    220,     18,  18805,   1817,   1899,     13,   5005,\n",
       "          1340,    293,   2050,  54304,   1330,    369,   1059,   4780,   1449,\n",
       "          1899,    448,   3040,  18805,     13,  13824,     11,   1558,    429,\n",
       "          3076,   1340,   5711,   3040,  18805,    369,  54304,   1330,   1817,\n",
       "          1899,     30,   2055,   2790,  18805,   1483,    553,   1059,    525,\n",
       "           220,     18,    369,  17496,   5519,    220,     19,    369,  54304,\n",
       "          1330,     13,   6771,    752,   1779,    429,   1549,     13,    576,\n",
       "          3491,   2727,   1340,  49677,   2326,    369,  17496,   1449,   6556,\n",
       "           323,    293,   2050,  54304,   1330,    369,   1059,   4780,   1449,\n",
       "          1899,    448,   3040,     13,   2055,   9834,     11,    330,   4197,\n",
       "          3040,      1,   4658,   3363,   1340,   5711,   3040,  18805,    369,\n",
       "           279,  54304,   1330,   1817,   1899,     13,   2055,   2790,  18805,\n",
       "          1483,    553])"
      ]
     },
     "execution_count": 7,
     "metadata": {},
     "output_type": "execute_result"
    }
   ],
   "source": [
    "test['prompt0']['generated_tokens']"
   ]
  },
  {
   "cell_type": "code",
   "execution_count": null,
   "id": "60a1215d",
   "metadata": {},
   "outputs": [],
   "source": []
  }
 ],
 "metadata": {
  "kernelspec": {
   "display_name": ".venv",
   "language": "python",
   "name": "python3"
  },
  "language_info": {
   "codemirror_mode": {
    "name": "ipython",
    "version": 3
   },
   "file_extension": ".py",
   "mimetype": "text/x-python",
   "name": "python",
   "nbconvert_exporter": "python",
   "pygments_lexer": "ipython3",
   "version": "3.12.10"
  }
 },
 "nbformat": 4,
 "nbformat_minor": 5
}
