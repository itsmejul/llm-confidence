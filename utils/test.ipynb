{
 "cells": [
  {
   "cell_type": "code",
   "execution_count": 2,
   "id": "8a541bb4",
   "metadata": {},
   "outputs": [],
   "source": [
    "import torch"
   ]
  },
  {
   "cell_type": "code",
   "execution_count": 3,
   "id": "b8d7a82b",
   "metadata": {},
   "outputs": [],
   "source": [
    "tensor_path = \"/home/max/Studium/Leipzig/Semster6/Math_and_ML/math-ml/experiments/cod_test_json_deepseek/output_2025-06-27_11-46.pt\"\n",
    "\n",
    "exp_results = torch.load(tensor_path)"
   ]
  },
  {
   "cell_type": "code",
   "execution_count": 4,
   "id": "c61ac683",
   "metadata": {},
   "outputs": [
    {
     "data": {
      "text/plain": [
       "dict_keys(['prompt0', 'prompt1', 'prompt2', 'prompt3', 'prompt4', 'prompt5', 'prompt6', 'prompt7', 'prompt8', 'prompt9', 'prompt10', 'prompt11', 'prompt12', 'prompt13', 'prompt14', 'prompt15', 'prompt16', 'prompt17', 'prompt18', 'prompt19'])"
      ]
     },
     "execution_count": 4,
     "metadata": {},
     "output_type": "execute_result"
    }
   ],
   "source": [
    "exp_results.keys()"
   ]
  },
  {
   "cell_type": "code",
   "execution_count": 5,
   "id": "337d16e2",
   "metadata": {},
   "outputs": [
    {
     "data": {
      "text/plain": [
       "dict_keys(['generated_tokens', 'decoded_tokens', 'top_p_tokens', 'top_p_logits', 'top_p_probs', 'prompt', 'question', 'ground_truth', 'latency'])"
      ]
     },
     "execution_count": 5,
     "metadata": {},
     "output_type": "execute_result"
    }
   ],
   "source": [
    "exp_results['prompt0'].keys()"
   ]
  },
  {
   "cell_type": "code",
   "execution_count": 5,
   "id": "64c09487",
   "metadata": {},
   "outputs": [
    {
     "name": "stdout",
     "output_type": "stream",
     "text": [
      "<｜end▁of▁sentence｜>\n",
      "---\n",
      "\n",
      " What  does  a  brace  take ? \n",
      " What  does  a  coat  take ? \n",
      " What  does  a  hat  take\n",
      "---\n",
      "\n",
      " {' answer ':   2 2 0 0 0 0 . 0 }\n",
      "---\n",
      "\n",
      " {' answer ':   1 8 0 0 }\n",
      "---\n",
      "\n",
      " {' answer ':   4 0 }\n",
      "---\n",
      "\n",
      " {' answer ':   6 3 }\n",
      "---\n",
      "\n",
      " {' answer ':   3 0 }\n",
      "---\n",
      "\n",
      " {' answer ':   8 }\n",
      "---\n",
      "\n",
      " {' answer ':   8 1 }\n",
      "---\n",
      "\n",
      " {\" answer \":   6 3 . 0 }\n",
      "---\n",
      "\n",
      " {  \" answer \":   9 3  }\n",
      "---\n",
      "\n",
      " Your  solution  should  just  return  the  unit  price  if  you  did  not  buy  the \n",
      " same  number  of  don\n",
      "---\n",
      "\n",
      " {' answer ':   6 }\n",
      "---\n",
      "<｜end▁of▁sentence｜>\n",
      "---\n",
      "\n",
      " How  many  interesting  problems  remain ? \n",
      " How  many  problems  remain  that  look  like  ( A , B )?\n",
      "---\n",
      "\n",
      " {' answer ':   7 2 5 }\n",
      "---\n",
      "{' answer ':   2 3 0 }\n",
      "---\n",
      "\n",
      " {' answer ':   8 4 0 0 0 }\n",
      "---\n",
      "\n",
      " {' answer ':   3 }\n",
      "---\n",
      "\n",
      " {' answer ':   2 }\n",
      "---\n",
      "\n",
      " {' answer ':   5 4 }\n",
      "---\n",
      "\n",
      " {\" answer \":   7 }\n",
      "---\n",
      "<｜end▁of▁sentence｜>\n",
      "---\n",
      "\n",
      " {' answer ':   5 }\n",
      "---\n",
      "\n",
      " /* js lint  de vel :  true ,  white :  true  */ \n",
      " /* js lint  indent :  \n",
      "---\n",
      "\n",
      " {\" answer \": 5 . 5 }\n",
      "---\n",
      "\n",
      " A  rectangle  measures   1 0  by   2 0 .  Find  the  perimeter  of  the  rectangle . \n",
      "\n",
      "---\n",
      "<｜end▁of▁sentence｜>\n",
      "---\n",
      "\n",
      " {' answer ':   2 5 }\n",
      "---\n",
      "\n",
      " {' answer ':   2 5 . 4 }\n",
      "---\n",
      "\n",
      " {' answer ':   2 4 }\n",
      "---\n",
      "<｜end▁of▁sentence｜>\n",
      "---\n",
      " {' answer ':   1 0 }\n",
      "---\n",
      "\n",
      " {' answer ':   1 4 0 }\n",
      "---\n",
      "\n",
      " {' answer ':   2 7 }\n",
      "---\n",
      "\n",
      " {' answer ':   3 9 }\n",
      "---\n",
      "  \n",
      " {\" answer \":  \" 1 3 0 \"} \n",
      " -------------------------------- ---- \n",
      " #  Take  a  snapshot  and  scale\n",
      "---\n",
      "\n",
      " {' answer ':   3 }\n",
      "---\n",
      "<｜end▁of▁sentence｜>\n",
      "---\n",
      "\n",
      " SELECT  CASE  WHEN  answer < 1 0  THEN  \" 1 \"  ELSE  answer  END ,  R OUND ( answer\n",
      "---\n",
      "\n",
      " {' answer ':   5 }\n",
      "---\n",
      "\n",
      " 8 0 0  feet \n",
      " 3 0 0  feet \n",
      " 3 0  feet \n",
      " 5 0  feet \n",
      " 5\n",
      "---\n",
      "\n",
      " {' answer ':   2 8 }\n",
      "---\n",
      "\n",
      " {' answer ':   2 0 0 0 }\n",
      "---\n",
      "   (   2 0  pounds  of  bees wax  will  produce   2 0 0  candles .) \n",
      " {' answer\n",
      "---\n",
      "\n",
      " She  has  a  health  condition  that  prevents  her  from  running  and  therefore  cannot  run  for  any  other  sport  either\n",
      "---\n",
      "<｜end▁of▁sentence｜>\n",
      "---\n",
      "\n",
      " {  \" answer \":   2 0 0 . 0  }\n",
      "---\n",
      "\n",
      " {' answer ':   4 }\n",
      "---\n",
      "\n",
      " {' answer ':   5 }\n",
      "---\n"
     ]
    }
   ],
   "source": [
    "for prompt_key in exp_results.keys():\n",
    "    answer = ' '.join(exp_results[prompt_key]['decoded_tokens'])\n",
    "    print(answer)\n",
    "    print('---')"
   ]
  },
  {
   "cell_type": "code",
   "execution_count": 11,
   "id": "74da7fa4",
   "metadata": {},
   "outputs": [
    {
     "name": "stdout",
     "output_type": "stream",
     "text": [
      "Answer: # 2 7 0 \n",
      " \n",
      " } \n",
      " \n",
      " ####  Pre - defined  helpers \n",
      " \n",
      " ###  const  helpers  =  require (' @ wo oz ing / rich : context - kit ') \n",
      " \n",
      " # Use  context  model  to  declare  condition  logic \n",
      " \n",
      " helpers . use (' create Condition From Map ') \n",
      " \n",
      " # Use  context  model  to  write  sql  query  and  parse  result  ( model  return  raw  data ,  model  fit  with  Rich  or  Flow  database ) \n",
      " \n",
      " helpers . use (' create Sql Queries From Map ') \n",
      " \n",
      " # use  human ized  time  period  and  date  to  format  time  range \n",
      " \n",
      " helpers . use (' time Period And Date Helper ') \n",
      " \n",
      " # Use  context  model  to  integrate  logic  function  by  JSON  path  ( flow  database ) \n",
      " \n",
      " helpers . use (' flow Json Path Functions ') \n",
      " \n",
      " \n",
      " ##  Running  the  app \n",
      " \n",
      " ``` \n",
      " \n",
      " Then  do  $ go  run  query . go  queries . go  Load s  into  memory  the  database  and  the  query  app  prints  queries  in  a  human - readable  way . \n",
      " \n",
      " The  query  app  only  can  ask  database  about  loaded  or  cached  data  ( it  does  not  request  a  new  query  execution ,  but  only  print  it ). \n",
      " \n",
      " \n",
      " \n",
      " \n",
      " #  Equ ivalent  C QL  of  SQL  queries \n",
      " \n",
      " If  you  need  the  C QL  code  to  use  with  sp out ,  just  run  [ get - c ql - sql ]( https :// github . com / wo oz ing / c ql - converter / blob / master / get - c ql - sql / get - c ql - sql . py )  from  its  repo .  This  will  generate  a  list  of  C QL  queries  from  the  input  SQL  query .  Example : \n",
      " \n",
      " ``` \n",
      " \n",
      " ` C QL  SELECT  R ENAME  CAL C  ` a ` =` b  INTO  T 0  FROM  ... `  =  ` SELECT  R ENAME  CAL C  ( ` a `,  ` b `)  INTO  T 0  FROM  .... \n",
      " \n",
      " ``` \n",
      " <｜end▁of▁sentence｜>\n",
      "\n",
      "He sprints 3*3=<<3*3=9>>9 times\n",
      "So he runs 9*60=<<9*60=540>>540 meters\n",
      "#### 540\n"
     ]
    }
   ],
   "source": [
    "prompt = 'prompt3'\n",
    "print(f\"Answer: {' '.join(exp_results[prompt]['decoded_tokens'])}\")\n",
    "print()\n",
    "print(exp_results[prompt]['ground_truth'])"
   ]
  },
  {
   "cell_type": "code",
   "execution_count": null,
   "id": "0e6753cf",
   "metadata": {},
   "outputs": [],
   "source": [
    "exp_results['prompt0']['top_p_probs']"
   ]
  },
  {
   "cell_type": "code",
   "execution_count": 7,
   "id": "83234aa4",
   "metadata": {},
   "outputs": [
    {
     "data": {
      "text/plain": [
       "[tensor([   185,     32,    207, 100001,    338,    459,    334,     27,  35829,\n",
       "           1724,   3132,    363]),\n",
       " tensor([    32,    185,     27,  32349, 100001,     48,      3,      7,    549,\n",
       "             16,     40,     64,   7900,    338,   2819,   1847,   2640,   3539,\n",
       "           9081,     12,     17,   2960,   1567,    207,  90155,   4622,  95991,\n",
       "           3673,   2054,    774,  28439,  43778,  78268,     20,     33,     18,\n",
       "          99297,   4453,   4160,  11912,      9,   6017,     35,     34,   1988,\n",
       "             19,     21]),\n",
       " tensor([25]),\n",
       " tensor([   363,     16,     17,    207,     19,     23,     18,     21,     20,\n",
       "             22,     24,  40804,   8763,     15,    185,  12900,    570,  14957,\n",
       "           2943,  12034,   4622,    334,     32,   3539,  15718,   1862,      3,\n",
       "           2130,    338,    628,    549,   9313,   1847, 100001,   1202,   2819,\n",
       "          10895,    459,    429,   1273,     40,  35829,     35,   2721,    774,\n",
       "           1724,     33,  28625,    304,   3309,   1988,     36,   4616,    685,\n",
       "          14179,   1332,   3567,  13664,   9217,   2960,  10394,   1567,    403,\n",
       "          11345,   4408,   4453,    243,   1494,   5046,   1385,  32349,    838,\n",
       "          13000,   1879,   3233,     34,   2803,    809,  12201,    357,  46009,\n",
       "           4160,    919,  11137,  19008,     50,   2071,     29,   7507,  15630,\n",
       "            825,  10793,   2054,   3132,  10005,  21727,    414,   8971,   3025,\n",
       "           2921,     41,  43059,  13518,    427,   2366,   2640,   5045,   1193,\n",
       "           1021,  51536,    575,  64116,   4711,  59259,   8516,   1002,     48,\n",
       "           7900]),\n",
       " tensor([   459,     15,     23,    185,     19,     27,    363,     20,     13,\n",
       "             17,     21,    207,     16,     18, 100001,     22]),\n",
       " tensor([   68,   301, 86506]),\n",
       " tensor([378])]"
      ]
     },
     "execution_count": 7,
     "metadata": {},
     "output_type": "execute_result"
    }
   ],
   "source": [
    "exp_results['prompt0']['top_p_tokens']"
   ]
  },
  {
   "cell_type": "code",
   "execution_count": 8,
   "id": "85445eb1",
   "metadata": {},
   "outputs": [
    {
     "data": {
      "text/plain": [
       "tensor([   429,   3510,   1023,    330,  10372,    279,  52181,     11,    441,\n",
       "          3073,     13,    185,   1567,   2512,  27000,    245,   1525,    280,\n",
       "         34417,   1437,    279,    245,   2512,    285,   4400,   4807,     11,\n",
       "           327,   2203,     25,    185,     58,     20,     11,    207,     21,\n",
       "            11,    207,     18,     11,    207,     20,     60,   1501,  13483,\n",
       "           825,     20,     11,    207,     21,     11,    207,     18,     11,\n",
       "           207,     20,     60,    185,     58,     20,     11,    207,     21,\n",
       "            11,    207,     18,     11,    207,     20,     60,      2,  13483,\n",
       "           825,     20,     11,    207,     21,     11,    207,     18,     11,\n",
       "           207,     20,     60,    185, 100001])"
      ]
     },
     "execution_count": 8,
     "metadata": {},
     "output_type": "execute_result"
    }
   ],
   "source": [
    "exp_results['prompt1']['generated_tokens']"
   ]
  },
  {
   "cell_type": "code",
   "execution_count": 9,
   "id": "548c4b02",
   "metadata": {},
   "outputs": [
    {
     "data": {
      "text/plain": [
       "7"
      ]
     },
     "execution_count": 9,
     "metadata": {},
     "output_type": "execute_result"
    }
   ],
   "source": [
    "len(exp_results['prompt0']['decoded_tokens'])"
   ]
  },
  {
   "cell_type": "code",
   "execution_count": 30,
   "id": "c5efc6e6",
   "metadata": {},
   "outputs": [],
   "source": [
    "raw_test = 'The answer is 72.0'\n",
    "test = 72.0"
   ]
  },
  {
   "cell_type": "code",
   "execution_count": 28,
   "id": "0319cfcf",
   "metadata": {},
   "outputs": [
    {
     "name": "stdout",
     "output_type": "stream",
     "text": [
      "cba\n"
     ]
    }
   ],
   "source": [
    "reverse = test[::-1]\n",
    "print(reverse)"
   ]
  },
  {
   "cell_type": "code",
   "execution_count": 34,
   "id": "dfced321",
   "metadata": {},
   "outputs": [
    {
     "name": "stdout",
     "output_type": "stream",
     "text": [
      "14\n",
      "15\n",
      "16\n",
      "17\n"
     ]
    }
   ],
   "source": [
    "test = str(test)\n",
    "raw_test_rvs = raw_test[::-1]\n",
    "for char in test:\n",
    "    for idx,char_b in enumerate(raw_test_rvs):\n",
    "        if char == char_b:\n",
    "            indice = len(raw_test_rvs) - idx -1\n",
    "            print(indice)\n",
    "            break"
   ]
  },
  {
   "cell_type": "code",
   "execution_count": 11,
   "id": "7d9b44bb",
   "metadata": {},
   "outputs": [],
   "source": [
    "import re"
   ]
  },
  {
   "cell_type": "code",
   "execution_count": null,
   "id": "b6c6ebea",
   "metadata": {},
   "outputs": [
    {
     "name": "stdout",
     "output_type": "stream",
     "text": [
      "None\n"
     ]
    }
   ],
   "source": [
    "string1 = \"abcde\"\n",
    "print(re.search(r'\\{\\s*[\"\\']answer[\"\\']\\s*:\\s*[-]?\\d+(\\.\\d+)?\\s*\\}', string1))"
   ]
  },
  {
   "cell_type": "code",
   "execution_count": 14,
   "id": "c5004a37",
   "metadata": {},
   "outputs": [
    {
     "name": "stdout",
     "output_type": "stream",
     "text": [
      "None\n"
     ]
    }
   ],
   "source": [
    "string2 = \"{could be a json}\"\n",
    "print(re.search(r'\\{\\s*[\"\\']answer[\"\\']\\s*:\\s*[-]?\\d+(\\.\\d+)?\\s*\\}', string2))"
   ]
  },
  {
   "cell_type": "code",
   "execution_count": 15,
   "id": "534341c3",
   "metadata": {},
   "outputs": [
    {
     "name": "stdout",
     "output_type": "stream",
     "text": [
      "None\n"
     ]
    }
   ],
   "source": [
    "string3 = \"{'answer:' 78}\"\n",
    "print(re.search(r'\\{\\s*[\"\\']answer[\"\\']\\s*:\\s*[-]?\\d+(\\.\\d+)?\\s*\\}', string3))"
   ]
  },
  {
   "cell_type": "code",
   "execution_count": 16,
   "id": "0fa64f8c",
   "metadata": {},
   "outputs": [
    {
     "name": "stdout",
     "output_type": "stream",
     "text": [
      "<re.Match object; span=(0, 14), match=\"{'answer': 78}\">\n"
     ]
    }
   ],
   "source": [
    "string4 = \"{'answer': 78}\"\n",
    "print(re.search(r'\\{\\s*[\"\\']answer[\"\\']\\s*:\\s*[-]?\\d+(\\.\\d+)?\\s*\\}', string4))"
   ]
  },
  {
   "cell_type": "code",
   "execution_count": 82,
   "id": "f3141ca6",
   "metadata": {},
   "outputs": [
    {
     "name": "stdout",
     "output_type": "stream",
     "text": [
      "None\n"
     ]
    }
   ],
   "source": [
    "string5 = \"Just  output  the  answer  in  JSON  format. {' answer ':   9 }\"\n",
    "print(re.search(r'\\{\\s*[\"\\']answer[\"\\']\\s*:\\s*[-]?\\d+(\\.\\d+)?\\s*\\}', string5))"
   ]
  },
  {
   "cell_type": "code",
   "execution_count": null,
   "id": "5cff6c88",
   "metadata": {},
   "outputs": [],
   "source": []
  }
 ],
 "metadata": {
  "kernelspec": {
   "display_name": ".venv",
   "language": "python",
   "name": "python3"
  },
  "language_info": {
   "codemirror_mode": {
    "name": "ipython",
    "version": 3
   },
   "file_extension": ".py",
   "mimetype": "text/x-python",
   "name": "python",
   "nbconvert_exporter": "python",
   "pygments_lexer": "ipython3",
   "version": "3.12.10"
  }
 },
 "nbformat": 4,
 "nbformat_minor": 5
}
