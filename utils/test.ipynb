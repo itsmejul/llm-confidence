{
 "cells": [
  {
   "cell_type": "code",
   "execution_count": 64,
   "id": "8a541bb4",
   "metadata": {},
   "outputs": [],
   "source": [
    "import torch"
   ]
  },
  {
   "cell_type": "code",
   "execution_count": 65,
   "id": "b8d7a82b",
   "metadata": {},
   "outputs": [],
   "source": [
    "tensor_path = \"/home/max/Studium/Leipzig/Semster6/Math_and_ML/math-ml/experiments/llama3_test_json/output_2025-06-26_15-43.pt\"\n",
    "\n",
    "exp_results = torch.load(tensor_path)"
   ]
  },
  {
   "cell_type": "code",
   "execution_count": 66,
   "id": "c61ac683",
   "metadata": {},
   "outputs": [
    {
     "data": {
      "text/plain": [
       "dict_keys(['prompt0'])"
      ]
     },
     "execution_count": 66,
     "metadata": {},
     "output_type": "execute_result"
    }
   ],
   "source": [
    "exp_results.keys()"
   ]
  },
  {
   "cell_type": "code",
   "execution_count": 67,
   "id": "337d16e2",
   "metadata": {},
   "outputs": [
    {
     "data": {
      "text/plain": [
       "dict_keys(['generated_tokens', 'decoded_tokens', 'top_p_tokens', 'top_p_logits', 'top_p_probs', 'prompt', 'question', 'ground_truth', 'latency'])"
      ]
     },
     "execution_count": 67,
     "metadata": {},
     "output_type": "execute_result"
    }
   ],
   "source": [
    "exp_results['prompt0'].keys()"
   ]
  },
  {
   "cell_type": "code",
   "execution_count": 68,
   "id": "74da7fa4",
   "metadata": {},
   "outputs": [
    {
     "name": "stdout",
     "output_type": "stream",
     "text": [
      "Answer: {' answer ':   50 }\n",
      "\n",
      "\n",
      "Janet sells 16 - 3 - 4 = <<16-3-4=9>>9 duck eggs a day.\n",
      "She makes 9 * 2 = $<<9*2=18>>18 every day at the farmer’s market.\n",
      "#### 18\n"
     ]
    }
   ],
   "source": [
    "prompt = 'prompt0'\n",
    "print(f\"Answer: {' '.join(exp_results[prompt]['decoded_tokens'])}\")\n",
    "print()\n",
    "print(exp_results[prompt]['ground_truth'])"
   ]
  },
  {
   "cell_type": "code",
   "execution_count": null,
   "id": "0e6753cf",
   "metadata": {},
   "outputs": [],
   "source": [
    "exp_results['prompt0']['top_p_probs']"
   ]
  },
  {
   "cell_type": "code",
   "execution_count": 7,
   "id": "83234aa4",
   "metadata": {},
   "outputs": [
    {
     "data": {
      "text/plain": [
       "[tensor([   185,     32,    207, 100001,    338,    459,    334,     27,  35829,\n",
       "           1724,   3132,    363]),\n",
       " tensor([    32,    185,     27,  32349, 100001,     48,      3,      7,    549,\n",
       "             16,     40,     64,   7900,    338,   2819,   1847,   2640,   3539,\n",
       "           9081,     12,     17,   2960,   1567,    207,  90155,   4622,  95991,\n",
       "           3673,   2054,    774,  28439,  43778,  78268,     20,     33,     18,\n",
       "          99297,   4453,   4160,  11912,      9,   6017,     35,     34,   1988,\n",
       "             19,     21]),\n",
       " tensor([25]),\n",
       " tensor([   363,     16,     17,    207,     19,     23,     18,     21,     20,\n",
       "             22,     24,  40804,   8763,     15,    185,  12900,    570,  14957,\n",
       "           2943,  12034,   4622,    334,     32,   3539,  15718,   1862,      3,\n",
       "           2130,    338,    628,    549,   9313,   1847, 100001,   1202,   2819,\n",
       "          10895,    459,    429,   1273,     40,  35829,     35,   2721,    774,\n",
       "           1724,     33,  28625,    304,   3309,   1988,     36,   4616,    685,\n",
       "          14179,   1332,   3567,  13664,   9217,   2960,  10394,   1567,    403,\n",
       "          11345,   4408,   4453,    243,   1494,   5046,   1385,  32349,    838,\n",
       "          13000,   1879,   3233,     34,   2803,    809,  12201,    357,  46009,\n",
       "           4160,    919,  11137,  19008,     50,   2071,     29,   7507,  15630,\n",
       "            825,  10793,   2054,   3132,  10005,  21727,    414,   8971,   3025,\n",
       "           2921,     41,  43059,  13518,    427,   2366,   2640,   5045,   1193,\n",
       "           1021,  51536,    575,  64116,   4711,  59259,   8516,   1002,     48,\n",
       "           7900]),\n",
       " tensor([   459,     15,     23,    185,     19,     27,    363,     20,     13,\n",
       "             17,     21,    207,     16,     18, 100001,     22]),\n",
       " tensor([   68,   301, 86506]),\n",
       " tensor([378])]"
      ]
     },
     "execution_count": 7,
     "metadata": {},
     "output_type": "execute_result"
    }
   ],
   "source": [
    "exp_results['prompt0']['top_p_tokens']"
   ]
  },
  {
   "cell_type": "code",
   "execution_count": null,
   "id": "85445eb1",
   "metadata": {},
   "outputs": [
    {
     "data": {
      "text/plain": [
       "6"
      ]
     },
     "execution_count": 34,
     "metadata": {},
     "output_type": "execute_result"
    }
   ],
   "source": [
    "exp_results['prompt0']['generated_tokens']"
   ]
  },
  {
   "cell_type": "code",
   "execution_count": 9,
   "id": "548c4b02",
   "metadata": {},
   "outputs": [
    {
     "data": {
      "text/plain": [
       "7"
      ]
     },
     "execution_count": 9,
     "metadata": {},
     "output_type": "execute_result"
    }
   ],
   "source": [
    "len(exp_results['prompt0']['decoded_tokens'])"
   ]
  },
  {
   "cell_type": "code",
   "execution_count": 30,
   "id": "c5efc6e6",
   "metadata": {},
   "outputs": [],
   "source": [
    "raw_test = 'The answer is 72.0'\n",
    "test = 72.0"
   ]
  },
  {
   "cell_type": "code",
   "execution_count": 28,
   "id": "0319cfcf",
   "metadata": {},
   "outputs": [
    {
     "name": "stdout",
     "output_type": "stream",
     "text": [
      "cba\n"
     ]
    }
   ],
   "source": [
    "reverse = test[::-1]\n",
    "print(reverse)"
   ]
  },
  {
   "cell_type": "code",
   "execution_count": 34,
   "id": "dfced321",
   "metadata": {},
   "outputs": [
    {
     "name": "stdout",
     "output_type": "stream",
     "text": [
      "14\n",
      "15\n",
      "16\n",
      "17\n"
     ]
    }
   ],
   "source": [
    "test = str(test)\n",
    "raw_test_rvs = raw_test[::-1]\n",
    "for char in test:\n",
    "    for idx,char_b in enumerate(raw_test_rvs):\n",
    "        if char == char_b:\n",
    "            indice = len(raw_test_rvs) - idx -1\n",
    "            print(indice)\n",
    "            break"
   ]
  },
  {
   "cell_type": "code",
   "execution_count": 11,
   "id": "7d9b44bb",
   "metadata": {},
   "outputs": [],
   "source": [
    "import re"
   ]
  },
  {
   "cell_type": "code",
   "execution_count": null,
   "id": "b6c6ebea",
   "metadata": {},
   "outputs": [
    {
     "name": "stdout",
     "output_type": "stream",
     "text": [
      "None\n"
     ]
    }
   ],
   "source": [
    "string1 = \"abcde\"\n",
    "print(re.search(r'\\{\\s*[\"\\']answer[\"\\']\\s*:\\s*[-]?\\d+(\\.\\d+)?\\s*\\}', string1))"
   ]
  },
  {
   "cell_type": "code",
   "execution_count": 14,
   "id": "c5004a37",
   "metadata": {},
   "outputs": [
    {
     "name": "stdout",
     "output_type": "stream",
     "text": [
      "None\n"
     ]
    }
   ],
   "source": [
    "string2 = \"{could be a json}\"\n",
    "print(re.search(r'\\{\\s*[\"\\']answer[\"\\']\\s*:\\s*[-]?\\d+(\\.\\d+)?\\s*\\}', string2))"
   ]
  },
  {
   "cell_type": "code",
   "execution_count": 15,
   "id": "534341c3",
   "metadata": {},
   "outputs": [
    {
     "name": "stdout",
     "output_type": "stream",
     "text": [
      "None\n"
     ]
    }
   ],
   "source": [
    "string3 = \"{'answer:' 78}\"\n",
    "print(re.search(r'\\{\\s*[\"\\']answer[\"\\']\\s*:\\s*[-]?\\d+(\\.\\d+)?\\s*\\}', string3))"
   ]
  },
  {
   "cell_type": "code",
   "execution_count": 16,
   "id": "0fa64f8c",
   "metadata": {},
   "outputs": [
    {
     "name": "stdout",
     "output_type": "stream",
     "text": [
      "<re.Match object; span=(0, 14), match=\"{'answer': 78}\">\n"
     ]
    }
   ],
   "source": [
    "string4 = \"{'answer': 78}\"\n",
    "print(re.search(r'\\{\\s*[\"\\']answer[\"\\']\\s*:\\s*[-]?\\d+(\\.\\d+)?\\s*\\}', string4))"
   ]
  },
  {
   "cell_type": "code",
   "execution_count": 18,
   "id": "f3141ca6",
   "metadata": {},
   "outputs": [
    {
     "name": "stdout",
     "output_type": "stream",
     "text": [
      "<re.Match object; span=(0, 14), match='{\"answer\": 78}'>\n"
     ]
    }
   ],
   "source": [
    "string5 = '{\"answer\": 78}'\n",
    "print(re.search(r'\\{\\s*[\"\\']answer[\"\\']\\s*:\\s*[-]?\\d+(\\.\\d+)?\\s*\\}', string5))"
   ]
  },
  {
   "cell_type": "code",
   "execution_count": null,
   "id": "5cff6c88",
   "metadata": {},
   "outputs": [],
   "source": []
  }
 ],
 "metadata": {
  "kernelspec": {
   "display_name": ".venv",
   "language": "python",
   "name": "python3"
  },
  "language_info": {
   "codemirror_mode": {
    "name": "ipython",
    "version": 3
   },
   "file_extension": ".py",
   "mimetype": "text/x-python",
   "name": "python",
   "nbconvert_exporter": "python",
   "pygments_lexer": "ipython3",
   "version": "3.12.10"
  }
 },
 "nbformat": 4,
 "nbformat_minor": 5
}
